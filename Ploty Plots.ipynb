{
 "cells": [
  {
   "cell_type": "code",
   "execution_count": 28,
   "metadata": {},
   "outputs": [
    {
     "data": {
      "application/vnd.plotly.v1+json": {
       "config": {
        "plotlyServerURL": "https://plot.ly"
       },
       "data": [
        {
         "customdata": [
          [
           5482416,
           171821,
           1898159,
           "US"
          ],
          [
           3407354,
           109888,
           2751246,
           "Brazil"
          ],
          [
           2767253,
           52888,
           2037816,
           "India"
          ],
          [
           930276,
           15836,
           741045,
           "Russia"
          ],
          [
           592144,
           12264,
           485468,
           "South Africa"
          ],
          [
           541493,
           26481,
           374019,
           "Peru"
          ],
          [
           531239,
           57774,
           433809,
           "Mexico"
          ],
          [
           489122,
           15619,
           312323,
           "Colombia"
          ],
          [
           388855,
           10546,
           362440,
           "Chile"
          ],
          [
           364196,
           28670,
           150376,
           "Spain"
          ],
          [
           347835,
           19972,
           300881,
           "Iran"
          ],
          [
           322177,
           41466,
           1493,
           "United Kingdom"
          ],
          [
           305966,
           6048,
           223531,
           "Argentina"
          ],
          [
           301323,
           3470,
           272911,
           "Saudi Arabia"
          ],
          [
           289832,
           6190,
           269989,
           "Pakistan"
          ],
          [
           282344,
           3740,
           162825,
           "Bangladesh"
          ],
          [
           256534,
           30434,
           84214,
           "France"
          ],
          [
           254636,
           35405,
           204142,
           "Italy"
          ],
          [
           251805,
           6016,
           232913,
           "Turkey"
          ],
          [
           228120,
           9241,
           203677,
           "Germany"
          ],
          [
           184709,
           6036,
           131840,
           "Iraq"
          ],
          [
           169213,
           2687,
           112861,
           "Philippines"
          ],
          [
           143043,
           6277,
           96306,
           "Indonesia"
          ],
          [
           125084,
           9090,
           111092,
           "Canada"
          ],
          [
           115661,
           193,
           112355,
           "Qatar"
          ],
          [
           103571,
           1415,
           86286,
           "Kazakhstan"
          ],
          [
           103019,
           4172,
           38623,
           "Bolivia"
          ],
          [
           102941,
           6105,
           87183,
           "Ecuador"
          ],
          [
           96753,
           5184,
           61562,
           "Egypt"
          ],
          [
           96653,
           2152,
           50508,
           "Ukraine"
          ],
          [
           96409,
           708,
           71990,
           "Israel"
          ],
          [
           89494,
           4705,
           83408,
           "China"
          ],
          [
           87123,
           1489,
           55504,
           "Dominican Republic"
          ],
          [
           85219,
           5790,
           0,
           "Sweden"
          ],
          [
           83418,
           597,
           77977,
           "Oman"
          ],
          [
           82790,
           1809,
           57191,
           "Panama"
          ],
          [
           78897,
           9959,
           18048,
           "Belgium"
          ],
          [
           77470,
           505,
           69243,
           "Kuwait"
          ],
          [
           72208,
           3074,
           33135,
           "Romania"
          ],
          [
           69673,
           617,
           67339,
           "Belarus"
          ],
          [
           65560,
           6197,
           422,
           "Netherlands"
          ],
          [
           64906,
           366,
           57909,
           "United Arab Emirates"
          ],
          [
           63847,
           2419,
           52370,
           "Guatemala"
          ],
          [
           57876,
           1896,
           39643,
           "Poland"
          ],
          [
           57636,
           1135,
           42965,
           "Japan"
          ],
          [
           55938,
           27,
           52533,
           "Singapore"
          ],
          [
           54448,
           1784,
           39936,
           "Portugal"
          ],
          [
           51670,
           1593,
           7661,
           "Honduras"
          ],
          [
           49895,
           981,
           37051,
           "Nigeria"
          ],
          [
           47581,
           175,
           43921,
           "Bahrain"
          ],
          [
           44803,
           714,
           31002,
           "Morocco"
          ],
          [
           42993,
           248,
           40796,
           "Ghana"
          ],
          [
           42146,
           1498,
           34855,
           "Kyrgyzstan"
          ],
          [
           41846,
           832,
           34982,
           "Armenia"
          ],
          [
           39444,
           1391,
           27653,
           "Algeria"
          ],
          [
           38449,
           1992,
           33500,
           "Switzerland"
          ],
          [
           37599,
           1375,
           27166,
           "Afghanistan"
          ],
          [
           36352,
           242,
           32062,
           "Uzbekistan"
          ],
          [
           35697,
           297,
           24561,
           "Venezuela"
          ],
          [
           34474,
           509,
           32201,
           "Azerbaijan"
          ],
          [
           32722,
           572,
           12938,
           "Ethiopia"
          ],
          [
           30789,
           908,
           21885,
           "Moldova"
          ],
          [
           30636,
           487,
           17368,
           "Kenya"
          ],
          [
           29890,
           681,
           0,
           "Serbia"
          ],
          [
           29643,
           314,
           9462,
           "Costa Rica"
          ],
          [
           28257,
           114,
           17580,
           "Nepal"
          ],
          [
           27499,
           1775,
           23364,
           "Ireland"
          ],
          [
           23989,
           450,
           14927,
           "Australia"
          ],
          [
           23829,
           729,
           20870,
           "Austria"
          ],
          [
           23462,
           625,
           11179,
           "El Salvador"
          ],
          [
           20483,
           401,
           15146,
           "Czechia"
          ],
          [
           18599,
           406,
           16540,
           "Cameroon"
          ],
          [
           17306,
           113,
           9939,
           "West Bank and Gaza"
          ],
          [
           17150,
           110,
           14183,
           "Cote d'Ivoire"
          ],
          [
           16351,
           495,
           10279,
           "Bosnia and Herzegovina"
          ],
          [
           16246,
           621,
           13778,
           "Denmark"
          ],
          [
           16058,
           306,
           14006,
           "Korea, South"
          ],
          [
           14669,
           519,
           9699,
           "Bulgaria"
          ],
          [
           14009,
           173,
           12767,
           "Madagascar"
          ],
          [
           12970,
           549,
           9513,
           "North Macedonia"
          ],
          [
           12485,
           805,
           6398,
           "Sudan"
          ],
          [
           12305,
           256,
           7767,
           "Senegal"
          ],
          [
           11545,
           390,
           7343,
           "Kosovo"
          ],
          [
           10606,
           161,
           6402,
           "Paraguay"
          ],
          [
           10111,
           262,
           8857,
           "Norway"
          ],
          [
           9981,
           264,
           8776,
           "Zambia"
          ],
          [
           9758,
           107,
           2852,
           "Lebanon"
          ],
          [
           9721,
           243,
           8882,
           "Congo (Kinshasa)"
          ],
          [
           9219,
           125,
           8902,
           "Malaysia"
          ],
          [
           9068,
           164,
           1003,
           "Libya"
          ],
          [
           8715,
           52,
           7532,
           "Guinea"
          ],
          [
           8270,
           53,
           6404,
           "Gabon"
          ],
          [
           8131,
           65,
           6935,
           "Tajikistan"
          ],
          [
           7921,
           196,
           5235,
           "Haiti"
          ],
          [
           7776,
           334,
           7050,
           "Finland"
          ],
          [
           7654,
           232,
           3871,
           "Albania"
          ],
          [
           7499,
           124,
           6753,
           "Luxembourg"
          ],
          [
           7472,
           232,
           1347,
           "Greece"
          ],
          [
           6855,
           166,
           5318,
           "Croatia"
          ],
          [
           6789,
           157,
           6051,
           "Mauritania"
          ],
          [
           6079,
           24,
           3648,
           "Maldives"
          ],
          [
           5378,
           141,
           4105,
           "Zimbabwe"
          ],
          [
           5374,
           59,
           5216,
           "Djibouti"
          ],
          [
           5193,
           163,
           2716,
           "Malawi"
          ],
          [
           4970,
           609,
           3631,
           "Hungary"
          ],
          [
           4821,
           83,
           2182,
           "Equatorial Guinea"
          ],
          [
           4679,
           61,
           1755,
           "Central African Republic"
          ],
          [
           4464,
           37,
           2407,
           "Namibia"
          ],
          [
           4311,
           133,
           2913,
           "Nicaragua"
          ],
          [
           4132,
           80,
           3035,
           "Montenegro"
          ],
          [
           3989,
           76,
           2587,
           "Eswatini"
          ],
          [
           3831,
           76,
           1625,
           "Congo (Brazzaville)"
          ],
          [
           3408,
           88,
           2794,
           "Cuba"
          ],
          [
           3382,
           58,
           3199,
           "Thailand"
          ],
          [
           3257,
           93,
           2374,
           "Somalia"
          ],
          [
           3253,
           36,
           2390,
           "Cabo Verde"
          ],
          [
           3216,
           54,
           2196,
           "Suriname"
          ],
          [
           2991,
           19,
           1245,
           "Mozambique"
          ],
          [
           2922,
           31,
           1980,
           "Slovakia"
          ],
          [
           2902,
           11,
           2755,
           "Sri Lanka"
          ],
          [
           2666,
           125,
           1990,
           "Mali"
          ],
          [
           2577,
           10,
           1683,
           "Rwanda"
          ],
          [
           2490,
           47,
           1175,
           "South Sudan"
          ],
          [
           2474,
           81,
           1733,
           "Lithuania"
          ],
          [
           2456,
           129,
           2052,
           "Slovenia"
          ],
          [
           2314,
           57,
           1370,
           "Tunisia"
          ],
          [
           2200,
           63,
           1990,
           "Estonia"
          ],
          [
           2117,
           33,
           1015,
           "Guinea-Bissau"
          ],
          [
           2116,
           63,
           415,
           "Gambia"
          ],
          [
           2063,
           39,
           1690,
           "Benin"
          ],
          [
           2027,
           10,
           1895,
           "Iceland"
          ],
          [
           1966,
           90,
           667,
           "Angola"
          ],
          [
           1959,
           69,
           1529,
           "Sierra Leone"
          ],
          [
           1889,
           537,
           1052,
           "Yemen"
          ],
          [
           1844,
           73,
           425,
           "Syria"
          ],
          [
           1649,
           22,
           1531,
           "New Zealand"
          ],
          [
           1603,
           15,
           1165,
           "Uganda"
          ],
          [
           1485,
           40,
           1219,
           "Uruguay"
          ],
          [
           1438,
           11,
           1243,
           "Jordan"
          ],
          [
           1424,
           20,
           203,
           "Bahamas"
          ],
          [
           1423,
           9,
           766,
           "Malta"
          ],
          [
           1359,
           20,
           878,
           "Cyprus"
          ],
          [
           1351,
           17,
           1092,
           "Georgia"
          ],
          [
           1323,
           33,
           1093,
           "Latvia"
          ],
          [
           1308,
           3,
           136,
           "Botswana"
          ],
          [
           1282,
           82,
           803,
           "Liberia"
          ],
          [
           1280,
           55,
           1018,
           "Burkina Faso"
          ],
          [
           1173,
           27,
           868,
           "Togo"
          ],
          [
           1167,
           69,
           1079,
           "Niger"
          ],
          [
           1146,
           14,
           770,
           "Jamaica"
          ],
          [
           1005,
           53,
           869,
           "Andorra"
          ],
          [
           989,
           26,
           526,
           "Vietnam"
          ],
          [
           970,
           76,
           865,
           "Chad"
          ],
          [
           946,
           30,
           271,
           "Lesotho"
          ],
          [
           885,
           15,
           821,
           "Sao Tome and Principe"
          ],
          [
           737,
           25,
           365,
           "Guyana"
          ],
          [
           712,
           13,
           651,
           "Diamond Princess"
          ],
          [
           702,
           42,
           657,
           "San Marino"
          ],
          [
           629,
           12,
           140,
           "Trinidad and Tobago"
          ],
          [
           509,
           21,
           183,
           "Tanzania"
          ],
          [
           486,
           7,
           450,
           "Taiwan*"
          ],
          [
           475,
           4,
           38,
           "Belize"
          ],
          [
           416,
           1,
           336,
           "Burundi"
          ],
          [
           406,
           7,
           393,
           "Comoros"
          ],
          [
           376,
           6,
           331,
           "Burma"
          ],
          [
           347,
           3,
           110,
           "Papua New Guinea"
          ],
          [
           346,
           10,
           334,
           "Mauritius"
          ],
          [
           304,
           0,
           261,
           "Eritrea"
          ],
          [
           298,
           0,
           281,
           "Mongolia"
          ],
          [
           273,
           0,
           251,
           "Cambodia"
          ],
          [
           153,
           7,
           122,
           "Barbados"
          ],
          [
           148,
           4,
           114,
           "Monaco"
          ],
          [
           147,
           0,
           103,
           "Bhutan"
          ],
          [
           142,
           3,
           139,
           "Brunei"
          ],
          [
           127,
           0,
           126,
           "Seychelles"
          ],
          [
           97,
           1,
           88,
           "Liechtenstein"
          ],
          [
           93,
           3,
           88,
           "Antigua and Barbuda"
          ],
          [
           58,
           0,
           55,
           "Saint Vincent and the Grenadines"
          ],
          [
           28,
           1,
           20,
           "Fiji"
          ],
          [
           26,
           0,
           25,
           "Saint Lucia"
          ],
          [
           25,
           0,
           24,
           "Timor-Leste"
          ],
          [
           24,
           0,
           24,
           "Grenada"
          ],
          [
           22,
           0,
           19,
           "Laos"
          ],
          [
           18,
           0,
           18,
           "Dominica"
          ],
          [
           17,
           0,
           17,
           "Saint Kitts and Nevis"
          ],
          [
           12,
           0,
           12,
           "Holy See"
          ],
          [
           10,
           1,
           8,
           "Western Sahara"
          ],
          [
           9,
           2,
           0,
           "MS Zaandam"
          ]
         ],
         "geo": "geo",
         "hovertemplate": "<b>%{hovertext}</b><br><br>Confirmed=%{marker.color:,2f}<br>Deaths=%{customdata[1]:,2f}<br>Recovered=%{customdata[2]:,2f}<extra></extra>",
         "hovertext": [
          "US",
          "Brazil",
          "India",
          "Russia",
          "South Africa",
          "Peru",
          "Mexico",
          "Colombia",
          "Chile",
          "Spain",
          "Iran",
          "United Kingdom",
          "Argentina",
          "Saudi Arabia",
          "Pakistan",
          "Bangladesh",
          "France",
          "Italy",
          "Turkey",
          "Germany",
          "Iraq",
          "Philippines",
          "Indonesia",
          "Canada",
          "Qatar",
          "Kazakhstan",
          "Bolivia",
          "Ecuador",
          "Egypt",
          "Ukraine",
          "Israel",
          "China",
          "Dominican Republic",
          "Sweden",
          "Oman",
          "Panama",
          "Belgium",
          "Kuwait",
          "Romania",
          "Belarus",
          "Netherlands",
          "United Arab Emirates",
          "Guatemala",
          "Poland",
          "Japan",
          "Singapore",
          "Portugal",
          "Honduras",
          "Nigeria",
          "Bahrain",
          "Morocco",
          "Ghana",
          "Kyrgyzstan",
          "Armenia",
          "Algeria",
          "Switzerland",
          "Afghanistan",
          "Uzbekistan",
          "Venezuela",
          "Azerbaijan",
          "Ethiopia",
          "Moldova",
          "Kenya",
          "Serbia",
          "Costa Rica",
          "Nepal",
          "Ireland",
          "Australia",
          "Austria",
          "El Salvador",
          "Czechia",
          "Cameroon",
          "West Bank and Gaza",
          "Cote d'Ivoire",
          "Bosnia and Herzegovina",
          "Denmark",
          "Korea, South",
          "Bulgaria",
          "Madagascar",
          "North Macedonia",
          "Sudan",
          "Senegal",
          "Kosovo",
          "Paraguay",
          "Norway",
          "Zambia",
          "Lebanon",
          "Congo (Kinshasa)",
          "Malaysia",
          "Libya",
          "Guinea",
          "Gabon",
          "Tajikistan",
          "Haiti",
          "Finland",
          "Albania",
          "Luxembourg",
          "Greece",
          "Croatia",
          "Mauritania",
          "Maldives",
          "Zimbabwe",
          "Djibouti",
          "Malawi",
          "Hungary",
          "Equatorial Guinea",
          "Central African Republic",
          "Namibia",
          "Nicaragua",
          "Montenegro",
          "Eswatini",
          "Congo (Brazzaville)",
          "Cuba",
          "Thailand",
          "Somalia",
          "Cabo Verde",
          "Suriname",
          "Mozambique",
          "Slovakia",
          "Sri Lanka",
          "Mali",
          "Rwanda",
          "South Sudan",
          "Lithuania",
          "Slovenia",
          "Tunisia",
          "Estonia",
          "Guinea-Bissau",
          "Gambia",
          "Benin",
          "Iceland",
          "Angola",
          "Sierra Leone",
          "Yemen",
          "Syria",
          "New Zealand",
          "Uganda",
          "Uruguay",
          "Jordan",
          "Bahamas",
          "Malta",
          "Cyprus",
          "Georgia",
          "Latvia",
          "Botswana",
          "Liberia",
          "Burkina Faso",
          "Togo",
          "Niger",
          "Jamaica",
          "Andorra",
          "Vietnam",
          "Chad",
          "Lesotho",
          "Sao Tome and Principe",
          "Guyana",
          "Diamond Princess",
          "San Marino",
          "Trinidad and Tobago",
          "Tanzania",
          "Taiwan*",
          "Belize",
          "Burundi",
          "Comoros",
          "Burma",
          "Papua New Guinea",
          "Mauritius",
          "Eritrea",
          "Mongolia",
          "Cambodia",
          "Barbados",
          "Monaco",
          "Bhutan",
          "Brunei",
          "Seychelles",
          "Liechtenstein",
          "Antigua and Barbuda",
          "Saint Vincent and the Grenadines",
          "Fiji",
          "Saint Lucia",
          "Timor-Leste",
          "Grenada",
          "Laos",
          "Dominica",
          "Saint Kitts and Nevis",
          "Holy See",
          "Western Sahara",
          "MS Zaandam"
         ],
         "legendgroup": "",
         "locationmode": "country names",
         "locations": [
          "US",
          "Brazil",
          "India",
          "Russia",
          "South Africa",
          "Peru",
          "Mexico",
          "Colombia",
          "Chile",
          "Spain",
          "Iran",
          "United Kingdom",
          "Argentina",
          "Saudi Arabia",
          "Pakistan",
          "Bangladesh",
          "France",
          "Italy",
          "Turkey",
          "Germany",
          "Iraq",
          "Philippines",
          "Indonesia",
          "Canada",
          "Qatar",
          "Kazakhstan",
          "Bolivia",
          "Ecuador",
          "Egypt",
          "Ukraine",
          "Israel",
          "China",
          "Dominican Republic",
          "Sweden",
          "Oman",
          "Panama",
          "Belgium",
          "Kuwait",
          "Romania",
          "Belarus",
          "Netherlands",
          "United Arab Emirates",
          "Guatemala",
          "Poland",
          "Japan",
          "Singapore",
          "Portugal",
          "Honduras",
          "Nigeria",
          "Bahrain",
          "Morocco",
          "Ghana",
          "Kyrgyzstan",
          "Armenia",
          "Algeria",
          "Switzerland",
          "Afghanistan",
          "Uzbekistan",
          "Venezuela",
          "Azerbaijan",
          "Ethiopia",
          "Moldova",
          "Kenya",
          "Serbia",
          "Costa Rica",
          "Nepal",
          "Ireland",
          "Australia",
          "Austria",
          "El Salvador",
          "Czechia",
          "Cameroon",
          "West Bank and Gaza",
          "Cote d'Ivoire",
          "Bosnia and Herzegovina",
          "Denmark",
          "Korea, South",
          "Bulgaria",
          "Madagascar",
          "North Macedonia",
          "Sudan",
          "Senegal",
          "Kosovo",
          "Paraguay",
          "Norway",
          "Zambia",
          "Lebanon",
          "Congo (Kinshasa)",
          "Malaysia",
          "Libya",
          "Guinea",
          "Gabon",
          "Tajikistan",
          "Haiti",
          "Finland",
          "Albania",
          "Luxembourg",
          "Greece",
          "Croatia",
          "Mauritania",
          "Maldives",
          "Zimbabwe",
          "Djibouti",
          "Malawi",
          "Hungary",
          "Equatorial Guinea",
          "Central African Republic",
          "Namibia",
          "Nicaragua",
          "Montenegro",
          "Eswatini",
          "Congo (Brazzaville)",
          "Cuba",
          "Thailand",
          "Somalia",
          "Cabo Verde",
          "Suriname",
          "Mozambique",
          "Slovakia",
          "Sri Lanka",
          "Mali",
          "Rwanda",
          "South Sudan",
          "Lithuania",
          "Slovenia",
          "Tunisia",
          "Estonia",
          "Guinea-Bissau",
          "Gambia",
          "Benin",
          "Iceland",
          "Angola",
          "Sierra Leone",
          "Yemen",
          "Syria",
          "New Zealand",
          "Uganda",
          "Uruguay",
          "Jordan",
          "Bahamas",
          "Malta",
          "Cyprus",
          "Georgia",
          "Latvia",
          "Botswana",
          "Liberia",
          "Burkina Faso",
          "Togo",
          "Niger",
          "Jamaica",
          "Andorra",
          "Vietnam",
          "Chad",
          "Lesotho",
          "Sao Tome and Principe",
          "Guyana",
          "Diamond Princess",
          "San Marino",
          "Trinidad and Tobago",
          "Tanzania",
          "Taiwan*",
          "Belize",
          "Burundi",
          "Comoros",
          "Burma",
          "Papua New Guinea",
          "Mauritius",
          "Eritrea",
          "Mongolia",
          "Cambodia",
          "Barbados",
          "Monaco",
          "Bhutan",
          "Brunei",
          "Seychelles",
          "Liechtenstein",
          "Antigua and Barbuda",
          "Saint Vincent and the Grenadines",
          "Fiji",
          "Saint Lucia",
          "Timor-Leste",
          "Grenada",
          "Laos",
          "Dominica",
          "Saint Kitts and Nevis",
          "Holy See",
          "Western Sahara",
          "MS Zaandam"
         ],
         "marker": {
          "color": [
           5482416,
           3407354,
           2767253,
           930276,
           592144,
           541493,
           531239,
           489122,
           388855,
           364196,
           347835,
           322177,
           305966,
           301323,
           289832,
           282344,
           256534,
           254636,
           251805,
           228120,
           184709,
           169213,
           143043,
           125084,
           115661,
           103571,
           103019,
           102941,
           96753,
           96653,
           96409,
           89494,
           87123,
           85219,
           83418,
           82790,
           78897,
           77470,
           72208,
           69673,
           65560,
           64906,
           63847,
           57876,
           57636,
           55938,
           54448,
           51670,
           49895,
           47581,
           44803,
           42993,
           42146,
           41846,
           39444,
           38449,
           37599,
           36352,
           35697,
           34474,
           32722,
           30789,
           30636,
           29890,
           29643,
           28257,
           27499,
           23989,
           23829,
           23462,
           20483,
           18599,
           17306,
           17150,
           16351,
           16246,
           16058,
           14669,
           14009,
           12970,
           12485,
           12305,
           11545,
           10606,
           10111,
           9981,
           9758,
           9721,
           9219,
           9068,
           8715,
           8270,
           8131,
           7921,
           7776,
           7654,
           7499,
           7472,
           6855,
           6789,
           6079,
           5378,
           5374,
           5193,
           4970,
           4821,
           4679,
           4464,
           4311,
           4132,
           3989,
           3831,
           3408,
           3382,
           3257,
           3253,
           3216,
           2991,
           2922,
           2902,
           2666,
           2577,
           2490,
           2474,
           2456,
           2314,
           2200,
           2117,
           2116,
           2063,
           2027,
           1966,
           1959,
           1889,
           1844,
           1649,
           1603,
           1485,
           1438,
           1424,
           1423,
           1359,
           1351,
           1323,
           1308,
           1282,
           1280,
           1173,
           1167,
           1146,
           1005,
           989,
           970,
           946,
           885,
           737,
           712,
           702,
           629,
           509,
           486,
           475,
           416,
           406,
           376,
           347,
           346,
           304,
           298,
           273,
           153,
           148,
           147,
           142,
           127,
           97,
           93,
           58,
           28,
           26,
           25,
           24,
           22,
           18,
           17,
           12,
           10,
           9
          ],
          "coloraxis": "coloraxis",
          "size": [
           5482416,
           3407354,
           2767253,
           930276,
           592144,
           541493,
           531239,
           489122,
           388855,
           364196,
           347835,
           322177,
           305966,
           301323,
           289832,
           282344,
           256534,
           254636,
           251805,
           228120,
           184709,
           169213,
           143043,
           125084,
           115661,
           103571,
           103019,
           102941,
           96753,
           96653,
           96409,
           89494,
           87123,
           85219,
           83418,
           82790,
           78897,
           77470,
           72208,
           69673,
           65560,
           64906,
           63847,
           57876,
           57636,
           55938,
           54448,
           51670,
           49895,
           47581,
           44803,
           42993,
           42146,
           41846,
           39444,
           38449,
           37599,
           36352,
           35697,
           34474,
           32722,
           30789,
           30636,
           29890,
           29643,
           28257,
           27499,
           23989,
           23829,
           23462,
           20483,
           18599,
           17306,
           17150,
           16351,
           16246,
           16058,
           14669,
           14009,
           12970,
           12485,
           12305,
           11545,
           10606,
           10111,
           9981,
           9758,
           9721,
           9219,
           9068,
           8715,
           8270,
           8131,
           7921,
           7776,
           7654,
           7499,
           7472,
           6855,
           6789,
           6079,
           5378,
           5374,
           5193,
           4970,
           4821,
           4679,
           4464,
           4311,
           4132,
           3989,
           3831,
           3408,
           3382,
           3257,
           3253,
           3216,
           2991,
           2922,
           2902,
           2666,
           2577,
           2490,
           2474,
           2456,
           2314,
           2200,
           2117,
           2116,
           2063,
           2027,
           1966,
           1959,
           1889,
           1844,
           1649,
           1603,
           1485,
           1438,
           1424,
           1423,
           1359,
           1351,
           1323,
           1308,
           1282,
           1280,
           1173,
           1167,
           1146,
           1005,
           989,
           970,
           946,
           885,
           737,
           712,
           702,
           629,
           509,
           486,
           475,
           416,
           406,
           376,
           347,
           346,
           304,
           298,
           273,
           153,
           148,
           147,
           142,
           127,
           97,
           93,
           58,
           28,
           26,
           25,
           24,
           22,
           18,
           17,
           12,
           10,
           9
          ],
          "sizemode": "area",
          "sizeref": 2192.9664
         },
         "name": "",
         "showlegend": false,
         "type": "scattergeo"
        }
       ],
       "layout": {
        "coloraxis": {
         "colorbar": {
          "title": {
           "text": "Confirmed"
          }
         },
         "colorscale": [
          [
           0,
           "#0d0887"
          ],
          [
           0.1111111111111111,
           "#46039f"
          ],
          [
           0.2222222222222222,
           "#7201a8"
          ],
          [
           0.3333333333333333,
           "#9c179e"
          ],
          [
           0.4444444444444444,
           "#bd3786"
          ],
          [
           0.5555555555555556,
           "#d8576b"
          ],
          [
           0.6666666666666666,
           "#ed7953"
          ],
          [
           0.7777777777777778,
           "#fb9f3a"
          ],
          [
           0.8888888888888888,
           "#fdca26"
          ],
          [
           1,
           "#f0f921"
          ]
         ]
        },
        "geo": {
         "center": {},
         "domain": {
          "x": [
           0,
           1
          ],
          "y": [
           0,
           1
          ]
         }
        },
        "legend": {
         "itemsizing": "constant",
         "tracegroupgap": 0
        },
        "margin": {
         "t": 60
        },
        "template": {
         "data": {
          "bar": [
           {
            "error_x": {
             "color": "#f2f5fa"
            },
            "error_y": {
             "color": "#f2f5fa"
            },
            "marker": {
             "line": {
              "color": "rgb(17,17,17)",
              "width": 0.5
             }
            },
            "type": "bar"
           }
          ],
          "barpolar": [
           {
            "marker": {
             "line": {
              "color": "rgb(17,17,17)",
              "width": 0.5
             }
            },
            "type": "barpolar"
           }
          ],
          "carpet": [
           {
            "aaxis": {
             "endlinecolor": "#A2B1C6",
             "gridcolor": "#506784",
             "linecolor": "#506784",
             "minorgridcolor": "#506784",
             "startlinecolor": "#A2B1C6"
            },
            "baxis": {
             "endlinecolor": "#A2B1C6",
             "gridcolor": "#506784",
             "linecolor": "#506784",
             "minorgridcolor": "#506784",
             "startlinecolor": "#A2B1C6"
            },
            "type": "carpet"
           }
          ],
          "choropleth": [
           {
            "colorbar": {
             "outlinewidth": 0,
             "ticks": ""
            },
            "type": "choropleth"
           }
          ],
          "contour": [
           {
            "colorbar": {
             "outlinewidth": 0,
             "ticks": ""
            },
            "colorscale": [
             [
              0,
              "#0d0887"
             ],
             [
              0.1111111111111111,
              "#46039f"
             ],
             [
              0.2222222222222222,
              "#7201a8"
             ],
             [
              0.3333333333333333,
              "#9c179e"
             ],
             [
              0.4444444444444444,
              "#bd3786"
             ],
             [
              0.5555555555555556,
              "#d8576b"
             ],
             [
              0.6666666666666666,
              "#ed7953"
             ],
             [
              0.7777777777777778,
              "#fb9f3a"
             ],
             [
              0.8888888888888888,
              "#fdca26"
             ],
             [
              1,
              "#f0f921"
             ]
            ],
            "type": "contour"
           }
          ],
          "contourcarpet": [
           {
            "colorbar": {
             "outlinewidth": 0,
             "ticks": ""
            },
            "type": "contourcarpet"
           }
          ],
          "heatmap": [
           {
            "colorbar": {
             "outlinewidth": 0,
             "ticks": ""
            },
            "colorscale": [
             [
              0,
              "#0d0887"
             ],
             [
              0.1111111111111111,
              "#46039f"
             ],
             [
              0.2222222222222222,
              "#7201a8"
             ],
             [
              0.3333333333333333,
              "#9c179e"
             ],
             [
              0.4444444444444444,
              "#bd3786"
             ],
             [
              0.5555555555555556,
              "#d8576b"
             ],
             [
              0.6666666666666666,
              "#ed7953"
             ],
             [
              0.7777777777777778,
              "#fb9f3a"
             ],
             [
              0.8888888888888888,
              "#fdca26"
             ],
             [
              1,
              "#f0f921"
             ]
            ],
            "type": "heatmap"
           }
          ],
          "heatmapgl": [
           {
            "colorbar": {
             "outlinewidth": 0,
             "ticks": ""
            },
            "colorscale": [
             [
              0,
              "#0d0887"
             ],
             [
              0.1111111111111111,
              "#46039f"
             ],
             [
              0.2222222222222222,
              "#7201a8"
             ],
             [
              0.3333333333333333,
              "#9c179e"
             ],
             [
              0.4444444444444444,
              "#bd3786"
             ],
             [
              0.5555555555555556,
              "#d8576b"
             ],
             [
              0.6666666666666666,
              "#ed7953"
             ],
             [
              0.7777777777777778,
              "#fb9f3a"
             ],
             [
              0.8888888888888888,
              "#fdca26"
             ],
             [
              1,
              "#f0f921"
             ]
            ],
            "type": "heatmapgl"
           }
          ],
          "histogram": [
           {
            "marker": {
             "colorbar": {
              "outlinewidth": 0,
              "ticks": ""
             }
            },
            "type": "histogram"
           }
          ],
          "histogram2d": [
           {
            "colorbar": {
             "outlinewidth": 0,
             "ticks": ""
            },
            "colorscale": [
             [
              0,
              "#0d0887"
             ],
             [
              0.1111111111111111,
              "#46039f"
             ],
             [
              0.2222222222222222,
              "#7201a8"
             ],
             [
              0.3333333333333333,
              "#9c179e"
             ],
             [
              0.4444444444444444,
              "#bd3786"
             ],
             [
              0.5555555555555556,
              "#d8576b"
             ],
             [
              0.6666666666666666,
              "#ed7953"
             ],
             [
              0.7777777777777778,
              "#fb9f3a"
             ],
             [
              0.8888888888888888,
              "#fdca26"
             ],
             [
              1,
              "#f0f921"
             ]
            ],
            "type": "histogram2d"
           }
          ],
          "histogram2dcontour": [
           {
            "colorbar": {
             "outlinewidth": 0,
             "ticks": ""
            },
            "colorscale": [
             [
              0,
              "#0d0887"
             ],
             [
              0.1111111111111111,
              "#46039f"
             ],
             [
              0.2222222222222222,
              "#7201a8"
             ],
             [
              0.3333333333333333,
              "#9c179e"
             ],
             [
              0.4444444444444444,
              "#bd3786"
             ],
             [
              0.5555555555555556,
              "#d8576b"
             ],
             [
              0.6666666666666666,
              "#ed7953"
             ],
             [
              0.7777777777777778,
              "#fb9f3a"
             ],
             [
              0.8888888888888888,
              "#fdca26"
             ],
             [
              1,
              "#f0f921"
             ]
            ],
            "type": "histogram2dcontour"
           }
          ],
          "mesh3d": [
           {
            "colorbar": {
             "outlinewidth": 0,
             "ticks": ""
            },
            "type": "mesh3d"
           }
          ],
          "parcoords": [
           {
            "line": {
             "colorbar": {
              "outlinewidth": 0,
              "ticks": ""
             }
            },
            "type": "parcoords"
           }
          ],
          "pie": [
           {
            "automargin": true,
            "type": "pie"
           }
          ],
          "scatter": [
           {
            "marker": {
             "line": {
              "color": "#283442"
             }
            },
            "type": "scatter"
           }
          ],
          "scatter3d": [
           {
            "line": {
             "colorbar": {
              "outlinewidth": 0,
              "ticks": ""
             }
            },
            "marker": {
             "colorbar": {
              "outlinewidth": 0,
              "ticks": ""
             }
            },
            "type": "scatter3d"
           }
          ],
          "scattercarpet": [
           {
            "marker": {
             "colorbar": {
              "outlinewidth": 0,
              "ticks": ""
             }
            },
            "type": "scattercarpet"
           }
          ],
          "scattergeo": [
           {
            "marker": {
             "colorbar": {
              "outlinewidth": 0,
              "ticks": ""
             }
            },
            "type": "scattergeo"
           }
          ],
          "scattergl": [
           {
            "marker": {
             "line": {
              "color": "#283442"
             }
            },
            "type": "scattergl"
           }
          ],
          "scattermapbox": [
           {
            "marker": {
             "colorbar": {
              "outlinewidth": 0,
              "ticks": ""
             }
            },
            "type": "scattermapbox"
           }
          ],
          "scatterpolar": [
           {
            "marker": {
             "colorbar": {
              "outlinewidth": 0,
              "ticks": ""
             }
            },
            "type": "scatterpolar"
           }
          ],
          "scatterpolargl": [
           {
            "marker": {
             "colorbar": {
              "outlinewidth": 0,
              "ticks": ""
             }
            },
            "type": "scatterpolargl"
           }
          ],
          "scatterternary": [
           {
            "marker": {
             "colorbar": {
              "outlinewidth": 0,
              "ticks": ""
             }
            },
            "type": "scatterternary"
           }
          ],
          "surface": [
           {
            "colorbar": {
             "outlinewidth": 0,
             "ticks": ""
            },
            "colorscale": [
             [
              0,
              "#0d0887"
             ],
             [
              0.1111111111111111,
              "#46039f"
             ],
             [
              0.2222222222222222,
              "#7201a8"
             ],
             [
              0.3333333333333333,
              "#9c179e"
             ],
             [
              0.4444444444444444,
              "#bd3786"
             ],
             [
              0.5555555555555556,
              "#d8576b"
             ],
             [
              0.6666666666666666,
              "#ed7953"
             ],
             [
              0.7777777777777778,
              "#fb9f3a"
             ],
             [
              0.8888888888888888,
              "#fdca26"
             ],
             [
              1,
              "#f0f921"
             ]
            ],
            "type": "surface"
           }
          ],
          "table": [
           {
            "cells": {
             "fill": {
              "color": "#506784"
             },
             "line": {
              "color": "rgb(17,17,17)"
             }
            },
            "header": {
             "fill": {
              "color": "#2a3f5f"
             },
             "line": {
              "color": "rgb(17,17,17)"
             }
            },
            "type": "table"
           }
          ]
         },
         "layout": {
          "annotationdefaults": {
           "arrowcolor": "#f2f5fa",
           "arrowhead": 0,
           "arrowwidth": 1
          },
          "coloraxis": {
           "colorbar": {
            "outlinewidth": 0,
            "ticks": ""
           }
          },
          "colorscale": {
           "diverging": [
            [
             0,
             "#8e0152"
            ],
            [
             0.1,
             "#c51b7d"
            ],
            [
             0.2,
             "#de77ae"
            ],
            [
             0.3,
             "#f1b6da"
            ],
            [
             0.4,
             "#fde0ef"
            ],
            [
             0.5,
             "#f7f7f7"
            ],
            [
             0.6,
             "#e6f5d0"
            ],
            [
             0.7,
             "#b8e186"
            ],
            [
             0.8,
             "#7fbc41"
            ],
            [
             0.9,
             "#4d9221"
            ],
            [
             1,
             "#276419"
            ]
           ],
           "sequential": [
            [
             0,
             "#0d0887"
            ],
            [
             0.1111111111111111,
             "#46039f"
            ],
            [
             0.2222222222222222,
             "#7201a8"
            ],
            [
             0.3333333333333333,
             "#9c179e"
            ],
            [
             0.4444444444444444,
             "#bd3786"
            ],
            [
             0.5555555555555556,
             "#d8576b"
            ],
            [
             0.6666666666666666,
             "#ed7953"
            ],
            [
             0.7777777777777778,
             "#fb9f3a"
            ],
            [
             0.8888888888888888,
             "#fdca26"
            ],
            [
             1,
             "#f0f921"
            ]
           ],
           "sequentialminus": [
            [
             0,
             "#0d0887"
            ],
            [
             0.1111111111111111,
             "#46039f"
            ],
            [
             0.2222222222222222,
             "#7201a8"
            ],
            [
             0.3333333333333333,
             "#9c179e"
            ],
            [
             0.4444444444444444,
             "#bd3786"
            ],
            [
             0.5555555555555556,
             "#d8576b"
            ],
            [
             0.6666666666666666,
             "#ed7953"
            ],
            [
             0.7777777777777778,
             "#fb9f3a"
            ],
            [
             0.8888888888888888,
             "#fdca26"
            ],
            [
             1,
             "#f0f921"
            ]
           ]
          },
          "colorway": [
           "#636efa",
           "#EF553B",
           "#00cc96",
           "#ab63fa",
           "#FFA15A",
           "#19d3f3",
           "#FF6692",
           "#B6E880",
           "#FF97FF",
           "#FECB52"
          ],
          "font": {
           "color": "#f2f5fa"
          },
          "geo": {
           "bgcolor": "rgb(17,17,17)",
           "lakecolor": "rgb(17,17,17)",
           "landcolor": "rgb(17,17,17)",
           "showlakes": true,
           "showland": true,
           "subunitcolor": "#506784"
          },
          "hoverlabel": {
           "align": "left"
          },
          "hovermode": "closest",
          "mapbox": {
           "style": "dark"
          },
          "paper_bgcolor": "rgb(17,17,17)",
          "plot_bgcolor": "rgb(17,17,17)",
          "polar": {
           "angularaxis": {
            "gridcolor": "#506784",
            "linecolor": "#506784",
            "ticks": ""
           },
           "bgcolor": "rgb(17,17,17)",
           "radialaxis": {
            "gridcolor": "#506784",
            "linecolor": "#506784",
            "ticks": ""
           }
          },
          "scene": {
           "xaxis": {
            "backgroundcolor": "rgb(17,17,17)",
            "gridcolor": "#506784",
            "gridwidth": 2,
            "linecolor": "#506784",
            "showbackground": true,
            "ticks": "",
            "zerolinecolor": "#C8D4E3"
           },
           "yaxis": {
            "backgroundcolor": "rgb(17,17,17)",
            "gridcolor": "#506784",
            "gridwidth": 2,
            "linecolor": "#506784",
            "showbackground": true,
            "ticks": "",
            "zerolinecolor": "#C8D4E3"
           },
           "zaxis": {
            "backgroundcolor": "rgb(17,17,17)",
            "gridcolor": "#506784",
            "gridwidth": 2,
            "linecolor": "#506784",
            "showbackground": true,
            "ticks": "",
            "zerolinecolor": "#C8D4E3"
           }
          },
          "shapedefaults": {
           "line": {
            "color": "#f2f5fa"
           }
          },
          "sliderdefaults": {
           "bgcolor": "#C8D4E3",
           "bordercolor": "rgb(17,17,17)",
           "borderwidth": 1,
           "tickwidth": 0
          },
          "ternary": {
           "aaxis": {
            "gridcolor": "#506784",
            "linecolor": "#506784",
            "ticks": ""
           },
           "baxis": {
            "gridcolor": "#506784",
            "linecolor": "#506784",
            "ticks": ""
           },
           "bgcolor": "rgb(17,17,17)",
           "caxis": {
            "gridcolor": "#506784",
            "linecolor": "#506784",
            "ticks": ""
           }
          },
          "title": {
           "x": 0.05
          },
          "updatemenudefaults": {
           "bgcolor": "#506784",
           "borderwidth": 0
          },
          "xaxis": {
           "automargin": true,
           "gridcolor": "#283442",
           "linecolor": "#506784",
           "ticks": "",
           "title": {
            "standoff": 15
           },
           "zerolinecolor": "#283442",
           "zerolinewidth": 2
          },
          "yaxis": {
           "automargin": true,
           "gridcolor": "#283442",
           "linecolor": "#506784",
           "ticks": "",
           "title": {
            "standoff": 15
           },
           "zerolinecolor": "#283442",
           "zerolinewidth": 2
          }
         }
        }
       }
      },
      "text/html": [
       "<div>\n",
       "        \n",
       "        \n",
       "            <div id=\"7dd99632-4d78-4332-981a-6a75b4f61dee\" class=\"plotly-graph-div\" style=\"height:525px; width:100%;\"></div>\n",
       "            <script type=\"text/javascript\">\n",
       "                require([\"plotly\"], function(Plotly) {\n",
       "                    window.PLOTLYENV=window.PLOTLYENV || {};\n",
       "                    \n",
       "                if (document.getElementById(\"7dd99632-4d78-4332-981a-6a75b4f61dee\")) {\n",
       "                    Plotly.newPlot(\n",
       "                        '7dd99632-4d78-4332-981a-6a75b4f61dee',\n",
       "                        [{\"customdata\": [[5482416, 171821, 1898159, \"US\"], [3407354, 109888, 2751246, \"Brazil\"], [2767253, 52888, 2037816, \"India\"], [930276, 15836, 741045, \"Russia\"], [592144, 12264, 485468, \"South Africa\"], [541493, 26481, 374019, \"Peru\"], [531239, 57774, 433809, \"Mexico\"], [489122, 15619, 312323, \"Colombia\"], [388855, 10546, 362440, \"Chile\"], [364196, 28670, 150376, \"Spain\"], [347835, 19972, 300881, \"Iran\"], [322177, 41466, 1493, \"United Kingdom\"], [305966, 6048, 223531, \"Argentina\"], [301323, 3470, 272911, \"Saudi Arabia\"], [289832, 6190, 269989, \"Pakistan\"], [282344, 3740, 162825, \"Bangladesh\"], [256534, 30434, 84214, \"France\"], [254636, 35405, 204142, \"Italy\"], [251805, 6016, 232913, \"Turkey\"], [228120, 9241, 203677, \"Germany\"], [184709, 6036, 131840, \"Iraq\"], [169213, 2687, 112861, \"Philippines\"], [143043, 6277, 96306, \"Indonesia\"], [125084, 9090, 111092, \"Canada\"], [115661, 193, 112355, \"Qatar\"], [103571, 1415, 86286, \"Kazakhstan\"], [103019, 4172, 38623, \"Bolivia\"], [102941, 6105, 87183, \"Ecuador\"], [96753, 5184, 61562, \"Egypt\"], [96653, 2152, 50508, \"Ukraine\"], [96409, 708, 71990, \"Israel\"], [89494, 4705, 83408, \"China\"], [87123, 1489, 55504, \"Dominican Republic\"], [85219, 5790, 0, \"Sweden\"], [83418, 597, 77977, \"Oman\"], [82790, 1809, 57191, \"Panama\"], [78897, 9959, 18048, \"Belgium\"], [77470, 505, 69243, \"Kuwait\"], [72208, 3074, 33135, \"Romania\"], [69673, 617, 67339, \"Belarus\"], [65560, 6197, 422, \"Netherlands\"], [64906, 366, 57909, \"United Arab Emirates\"], [63847, 2419, 52370, \"Guatemala\"], [57876, 1896, 39643, \"Poland\"], [57636, 1135, 42965, \"Japan\"], [55938, 27, 52533, \"Singapore\"], [54448, 1784, 39936, \"Portugal\"], [51670, 1593, 7661, \"Honduras\"], [49895, 981, 37051, \"Nigeria\"], [47581, 175, 43921, \"Bahrain\"], [44803, 714, 31002, \"Morocco\"], [42993, 248, 40796, \"Ghana\"], [42146, 1498, 34855, \"Kyrgyzstan\"], [41846, 832, 34982, \"Armenia\"], [39444, 1391, 27653, \"Algeria\"], [38449, 1992, 33500, \"Switzerland\"], [37599, 1375, 27166, \"Afghanistan\"], [36352, 242, 32062, \"Uzbekistan\"], [35697, 297, 24561, \"Venezuela\"], [34474, 509, 32201, \"Azerbaijan\"], [32722, 572, 12938, \"Ethiopia\"], [30789, 908, 21885, \"Moldova\"], [30636, 487, 17368, \"Kenya\"], [29890, 681, 0, \"Serbia\"], [29643, 314, 9462, \"Costa Rica\"], [28257, 114, 17580, \"Nepal\"], [27499, 1775, 23364, \"Ireland\"], [23989, 450, 14927, \"Australia\"], [23829, 729, 20870, \"Austria\"], [23462, 625, 11179, \"El Salvador\"], [20483, 401, 15146, \"Czechia\"], [18599, 406, 16540, \"Cameroon\"], [17306, 113, 9939, \"West Bank and Gaza\"], [17150, 110, 14183, \"Cote d'Ivoire\"], [16351, 495, 10279, \"Bosnia and Herzegovina\"], [16246, 621, 13778, \"Denmark\"], [16058, 306, 14006, \"Korea, South\"], [14669, 519, 9699, \"Bulgaria\"], [14009, 173, 12767, \"Madagascar\"], [12970, 549, 9513, \"North Macedonia\"], [12485, 805, 6398, \"Sudan\"], [12305, 256, 7767, \"Senegal\"], [11545, 390, 7343, \"Kosovo\"], [10606, 161, 6402, \"Paraguay\"], [10111, 262, 8857, \"Norway\"], [9981, 264, 8776, \"Zambia\"], [9758, 107, 2852, \"Lebanon\"], [9721, 243, 8882, \"Congo (Kinshasa)\"], [9219, 125, 8902, \"Malaysia\"], [9068, 164, 1003, \"Libya\"], [8715, 52, 7532, \"Guinea\"], [8270, 53, 6404, \"Gabon\"], [8131, 65, 6935, \"Tajikistan\"], [7921, 196, 5235, \"Haiti\"], [7776, 334, 7050, \"Finland\"], [7654, 232, 3871, \"Albania\"], [7499, 124, 6753, \"Luxembourg\"], [7472, 232, 1347, \"Greece\"], [6855, 166, 5318, \"Croatia\"], [6789, 157, 6051, \"Mauritania\"], [6079, 24, 3648, \"Maldives\"], [5378, 141, 4105, \"Zimbabwe\"], [5374, 59, 5216, \"Djibouti\"], [5193, 163, 2716, \"Malawi\"], [4970, 609, 3631, \"Hungary\"], [4821, 83, 2182, \"Equatorial Guinea\"], [4679, 61, 1755, \"Central African Republic\"], [4464, 37, 2407, \"Namibia\"], [4311, 133, 2913, \"Nicaragua\"], [4132, 80, 3035, \"Montenegro\"], [3989, 76, 2587, \"Eswatini\"], [3831, 76, 1625, \"Congo (Brazzaville)\"], [3408, 88, 2794, \"Cuba\"], [3382, 58, 3199, \"Thailand\"], [3257, 93, 2374, \"Somalia\"], [3253, 36, 2390, \"Cabo Verde\"], [3216, 54, 2196, \"Suriname\"], [2991, 19, 1245, \"Mozambique\"], [2922, 31, 1980, \"Slovakia\"], [2902, 11, 2755, \"Sri Lanka\"], [2666, 125, 1990, \"Mali\"], [2577, 10, 1683, \"Rwanda\"], [2490, 47, 1175, \"South Sudan\"], [2474, 81, 1733, \"Lithuania\"], [2456, 129, 2052, \"Slovenia\"], [2314, 57, 1370, \"Tunisia\"], [2200, 63, 1990, \"Estonia\"], [2117, 33, 1015, \"Guinea-Bissau\"], [2116, 63, 415, \"Gambia\"], [2063, 39, 1690, \"Benin\"], [2027, 10, 1895, \"Iceland\"], [1966, 90, 667, \"Angola\"], [1959, 69, 1529, \"Sierra Leone\"], [1889, 537, 1052, \"Yemen\"], [1844, 73, 425, \"Syria\"], [1649, 22, 1531, \"New Zealand\"], [1603, 15, 1165, \"Uganda\"], [1485, 40, 1219, \"Uruguay\"], [1438, 11, 1243, \"Jordan\"], [1424, 20, 203, \"Bahamas\"], [1423, 9, 766, \"Malta\"], [1359, 20, 878, \"Cyprus\"], [1351, 17, 1092, \"Georgia\"], [1323, 33, 1093, \"Latvia\"], [1308, 3, 136, \"Botswana\"], [1282, 82, 803, \"Liberia\"], [1280, 55, 1018, \"Burkina Faso\"], [1173, 27, 868, \"Togo\"], [1167, 69, 1079, \"Niger\"], [1146, 14, 770, \"Jamaica\"], [1005, 53, 869, \"Andorra\"], [989, 26, 526, \"Vietnam\"], [970, 76, 865, \"Chad\"], [946, 30, 271, \"Lesotho\"], [885, 15, 821, \"Sao Tome and Principe\"], [737, 25, 365, \"Guyana\"], [712, 13, 651, \"Diamond Princess\"], [702, 42, 657, \"San Marino\"], [629, 12, 140, \"Trinidad and Tobago\"], [509, 21, 183, \"Tanzania\"], [486, 7, 450, \"Taiwan*\"], [475, 4, 38, \"Belize\"], [416, 1, 336, \"Burundi\"], [406, 7, 393, \"Comoros\"], [376, 6, 331, \"Burma\"], [347, 3, 110, \"Papua New Guinea\"], [346, 10, 334, \"Mauritius\"], [304, 0, 261, \"Eritrea\"], [298, 0, 281, \"Mongolia\"], [273, 0, 251, \"Cambodia\"], [153, 7, 122, \"Barbados\"], [148, 4, 114, \"Monaco\"], [147, 0, 103, \"Bhutan\"], [142, 3, 139, \"Brunei\"], [127, 0, 126, \"Seychelles\"], [97, 1, 88, \"Liechtenstein\"], [93, 3, 88, \"Antigua and Barbuda\"], [58, 0, 55, \"Saint Vincent and the Grenadines\"], [28, 1, 20, \"Fiji\"], [26, 0, 25, \"Saint Lucia\"], [25, 0, 24, \"Timor-Leste\"], [24, 0, 24, \"Grenada\"], [22, 0, 19, \"Laos\"], [18, 0, 18, \"Dominica\"], [17, 0, 17, \"Saint Kitts and Nevis\"], [12, 0, 12, \"Holy See\"], [10, 1, 8, \"Western Sahara\"], [9, 2, 0, \"MS Zaandam\"]], \"geo\": \"geo\", \"hovertemplate\": \"<b>%{hovertext}</b><br><br>Confirmed=%{marker.color:,2f}<br>Deaths=%{customdata[1]:,2f}<br>Recovered=%{customdata[2]:,2f}<extra></extra>\", \"hovertext\": [\"US\", \"Brazil\", \"India\", \"Russia\", \"South Africa\", \"Peru\", \"Mexico\", \"Colombia\", \"Chile\", \"Spain\", \"Iran\", \"United Kingdom\", \"Argentina\", \"Saudi Arabia\", \"Pakistan\", \"Bangladesh\", \"France\", \"Italy\", \"Turkey\", \"Germany\", \"Iraq\", \"Philippines\", \"Indonesia\", \"Canada\", \"Qatar\", \"Kazakhstan\", \"Bolivia\", \"Ecuador\", \"Egypt\", \"Ukraine\", \"Israel\", \"China\", \"Dominican Republic\", \"Sweden\", \"Oman\", \"Panama\", \"Belgium\", \"Kuwait\", \"Romania\", \"Belarus\", \"Netherlands\", \"United Arab Emirates\", \"Guatemala\", \"Poland\", \"Japan\", \"Singapore\", \"Portugal\", \"Honduras\", \"Nigeria\", \"Bahrain\", \"Morocco\", \"Ghana\", \"Kyrgyzstan\", \"Armenia\", \"Algeria\", \"Switzerland\", \"Afghanistan\", \"Uzbekistan\", \"Venezuela\", \"Azerbaijan\", \"Ethiopia\", \"Moldova\", \"Kenya\", \"Serbia\", \"Costa Rica\", \"Nepal\", \"Ireland\", \"Australia\", \"Austria\", \"El Salvador\", \"Czechia\", \"Cameroon\", \"West Bank and Gaza\", \"Cote d'Ivoire\", \"Bosnia and Herzegovina\", \"Denmark\", \"Korea, South\", \"Bulgaria\", \"Madagascar\", \"North Macedonia\", \"Sudan\", \"Senegal\", \"Kosovo\", \"Paraguay\", \"Norway\", \"Zambia\", \"Lebanon\", \"Congo (Kinshasa)\", \"Malaysia\", \"Libya\", \"Guinea\", \"Gabon\", \"Tajikistan\", \"Haiti\", \"Finland\", \"Albania\", \"Luxembourg\", \"Greece\", \"Croatia\", \"Mauritania\", \"Maldives\", \"Zimbabwe\", \"Djibouti\", \"Malawi\", \"Hungary\", \"Equatorial Guinea\", \"Central African Republic\", \"Namibia\", \"Nicaragua\", \"Montenegro\", \"Eswatini\", \"Congo (Brazzaville)\", \"Cuba\", \"Thailand\", \"Somalia\", \"Cabo Verde\", \"Suriname\", \"Mozambique\", \"Slovakia\", \"Sri Lanka\", \"Mali\", \"Rwanda\", \"South Sudan\", \"Lithuania\", \"Slovenia\", \"Tunisia\", \"Estonia\", \"Guinea-Bissau\", \"Gambia\", \"Benin\", \"Iceland\", \"Angola\", \"Sierra Leone\", \"Yemen\", \"Syria\", \"New Zealand\", \"Uganda\", \"Uruguay\", \"Jordan\", \"Bahamas\", \"Malta\", \"Cyprus\", \"Georgia\", \"Latvia\", \"Botswana\", \"Liberia\", \"Burkina Faso\", \"Togo\", \"Niger\", \"Jamaica\", \"Andorra\", \"Vietnam\", \"Chad\", \"Lesotho\", \"Sao Tome and Principe\", \"Guyana\", \"Diamond Princess\", \"San Marino\", \"Trinidad and Tobago\", \"Tanzania\", \"Taiwan*\", \"Belize\", \"Burundi\", \"Comoros\", \"Burma\", \"Papua New Guinea\", \"Mauritius\", \"Eritrea\", \"Mongolia\", \"Cambodia\", \"Barbados\", \"Monaco\", \"Bhutan\", \"Brunei\", \"Seychelles\", \"Liechtenstein\", \"Antigua and Barbuda\", \"Saint Vincent and the Grenadines\", \"Fiji\", \"Saint Lucia\", \"Timor-Leste\", \"Grenada\", \"Laos\", \"Dominica\", \"Saint Kitts and Nevis\", \"Holy See\", \"Western Sahara\", \"MS Zaandam\"], \"legendgroup\": \"\", \"locationmode\": \"country names\", \"locations\": [\"US\", \"Brazil\", \"India\", \"Russia\", \"South Africa\", \"Peru\", \"Mexico\", \"Colombia\", \"Chile\", \"Spain\", \"Iran\", \"United Kingdom\", \"Argentina\", \"Saudi Arabia\", \"Pakistan\", \"Bangladesh\", \"France\", \"Italy\", \"Turkey\", \"Germany\", \"Iraq\", \"Philippines\", \"Indonesia\", \"Canada\", \"Qatar\", \"Kazakhstan\", \"Bolivia\", \"Ecuador\", \"Egypt\", \"Ukraine\", \"Israel\", \"China\", \"Dominican Republic\", \"Sweden\", \"Oman\", \"Panama\", \"Belgium\", \"Kuwait\", \"Romania\", \"Belarus\", \"Netherlands\", \"United Arab Emirates\", \"Guatemala\", \"Poland\", \"Japan\", \"Singapore\", \"Portugal\", \"Honduras\", \"Nigeria\", \"Bahrain\", \"Morocco\", \"Ghana\", \"Kyrgyzstan\", \"Armenia\", \"Algeria\", \"Switzerland\", \"Afghanistan\", \"Uzbekistan\", \"Venezuela\", \"Azerbaijan\", \"Ethiopia\", \"Moldova\", \"Kenya\", \"Serbia\", \"Costa Rica\", \"Nepal\", \"Ireland\", \"Australia\", \"Austria\", \"El Salvador\", \"Czechia\", \"Cameroon\", \"West Bank and Gaza\", \"Cote d'Ivoire\", \"Bosnia and Herzegovina\", \"Denmark\", \"Korea, South\", \"Bulgaria\", \"Madagascar\", \"North Macedonia\", \"Sudan\", \"Senegal\", \"Kosovo\", \"Paraguay\", \"Norway\", \"Zambia\", \"Lebanon\", \"Congo (Kinshasa)\", \"Malaysia\", \"Libya\", \"Guinea\", \"Gabon\", \"Tajikistan\", \"Haiti\", \"Finland\", \"Albania\", \"Luxembourg\", \"Greece\", \"Croatia\", \"Mauritania\", \"Maldives\", \"Zimbabwe\", \"Djibouti\", \"Malawi\", \"Hungary\", \"Equatorial Guinea\", \"Central African Republic\", \"Namibia\", \"Nicaragua\", \"Montenegro\", \"Eswatini\", \"Congo (Brazzaville)\", \"Cuba\", \"Thailand\", \"Somalia\", \"Cabo Verde\", \"Suriname\", \"Mozambique\", \"Slovakia\", \"Sri Lanka\", \"Mali\", \"Rwanda\", \"South Sudan\", \"Lithuania\", \"Slovenia\", \"Tunisia\", \"Estonia\", \"Guinea-Bissau\", \"Gambia\", \"Benin\", \"Iceland\", \"Angola\", \"Sierra Leone\", \"Yemen\", \"Syria\", \"New Zealand\", \"Uganda\", \"Uruguay\", \"Jordan\", \"Bahamas\", \"Malta\", \"Cyprus\", \"Georgia\", \"Latvia\", \"Botswana\", \"Liberia\", \"Burkina Faso\", \"Togo\", \"Niger\", \"Jamaica\", \"Andorra\", \"Vietnam\", \"Chad\", \"Lesotho\", \"Sao Tome and Principe\", \"Guyana\", \"Diamond Princess\", \"San Marino\", \"Trinidad and Tobago\", \"Tanzania\", \"Taiwan*\", \"Belize\", \"Burundi\", \"Comoros\", \"Burma\", \"Papua New Guinea\", \"Mauritius\", \"Eritrea\", \"Mongolia\", \"Cambodia\", \"Barbados\", \"Monaco\", \"Bhutan\", \"Brunei\", \"Seychelles\", \"Liechtenstein\", \"Antigua and Barbuda\", \"Saint Vincent and the Grenadines\", \"Fiji\", \"Saint Lucia\", \"Timor-Leste\", \"Grenada\", \"Laos\", \"Dominica\", \"Saint Kitts and Nevis\", \"Holy See\", \"Western Sahara\", \"MS Zaandam\"], \"marker\": {\"color\": [5482416, 3407354, 2767253, 930276, 592144, 541493, 531239, 489122, 388855, 364196, 347835, 322177, 305966, 301323, 289832, 282344, 256534, 254636, 251805, 228120, 184709, 169213, 143043, 125084, 115661, 103571, 103019, 102941, 96753, 96653, 96409, 89494, 87123, 85219, 83418, 82790, 78897, 77470, 72208, 69673, 65560, 64906, 63847, 57876, 57636, 55938, 54448, 51670, 49895, 47581, 44803, 42993, 42146, 41846, 39444, 38449, 37599, 36352, 35697, 34474, 32722, 30789, 30636, 29890, 29643, 28257, 27499, 23989, 23829, 23462, 20483, 18599, 17306, 17150, 16351, 16246, 16058, 14669, 14009, 12970, 12485, 12305, 11545, 10606, 10111, 9981, 9758, 9721, 9219, 9068, 8715, 8270, 8131, 7921, 7776, 7654, 7499, 7472, 6855, 6789, 6079, 5378, 5374, 5193, 4970, 4821, 4679, 4464, 4311, 4132, 3989, 3831, 3408, 3382, 3257, 3253, 3216, 2991, 2922, 2902, 2666, 2577, 2490, 2474, 2456, 2314, 2200, 2117, 2116, 2063, 2027, 1966, 1959, 1889, 1844, 1649, 1603, 1485, 1438, 1424, 1423, 1359, 1351, 1323, 1308, 1282, 1280, 1173, 1167, 1146, 1005, 989, 970, 946, 885, 737, 712, 702, 629, 509, 486, 475, 416, 406, 376, 347, 346, 304, 298, 273, 153, 148, 147, 142, 127, 97, 93, 58, 28, 26, 25, 24, 22, 18, 17, 12, 10, 9], \"coloraxis\": \"coloraxis\", \"size\": [5482416, 3407354, 2767253, 930276, 592144, 541493, 531239, 489122, 388855, 364196, 347835, 322177, 305966, 301323, 289832, 282344, 256534, 254636, 251805, 228120, 184709, 169213, 143043, 125084, 115661, 103571, 103019, 102941, 96753, 96653, 96409, 89494, 87123, 85219, 83418, 82790, 78897, 77470, 72208, 69673, 65560, 64906, 63847, 57876, 57636, 55938, 54448, 51670, 49895, 47581, 44803, 42993, 42146, 41846, 39444, 38449, 37599, 36352, 35697, 34474, 32722, 30789, 30636, 29890, 29643, 28257, 27499, 23989, 23829, 23462, 20483, 18599, 17306, 17150, 16351, 16246, 16058, 14669, 14009, 12970, 12485, 12305, 11545, 10606, 10111, 9981, 9758, 9721, 9219, 9068, 8715, 8270, 8131, 7921, 7776, 7654, 7499, 7472, 6855, 6789, 6079, 5378, 5374, 5193, 4970, 4821, 4679, 4464, 4311, 4132, 3989, 3831, 3408, 3382, 3257, 3253, 3216, 2991, 2922, 2902, 2666, 2577, 2490, 2474, 2456, 2314, 2200, 2117, 2116, 2063, 2027, 1966, 1959, 1889, 1844, 1649, 1603, 1485, 1438, 1424, 1423, 1359, 1351, 1323, 1308, 1282, 1280, 1173, 1167, 1146, 1005, 989, 970, 946, 885, 737, 712, 702, 629, 509, 486, 475, 416, 406, 376, 347, 346, 304, 298, 273, 153, 148, 147, 142, 127, 97, 93, 58, 28, 26, 25, 24, 22, 18, 17, 12, 10, 9], \"sizemode\": \"area\", \"sizeref\": 2192.9664}, \"name\": \"\", \"showlegend\": false, \"type\": \"scattergeo\"}],\n",
       "                        {\"coloraxis\": {\"colorbar\": {\"title\": {\"text\": \"Confirmed\"}}, \"colorscale\": [[0.0, \"#0d0887\"], [0.1111111111111111, \"#46039f\"], [0.2222222222222222, \"#7201a8\"], [0.3333333333333333, \"#9c179e\"], [0.4444444444444444, \"#bd3786\"], [0.5555555555555556, \"#d8576b\"], [0.6666666666666666, \"#ed7953\"], [0.7777777777777778, \"#fb9f3a\"], [0.8888888888888888, \"#fdca26\"], [1.0, \"#f0f921\"]]}, \"geo\": {\"center\": {}, \"domain\": {\"x\": [0.0, 1.0], \"y\": [0.0, 1.0]}}, \"legend\": {\"itemsizing\": \"constant\", \"tracegroupgap\": 0}, \"margin\": {\"t\": 60}, \"template\": {\"data\": {\"bar\": [{\"error_x\": {\"color\": \"#f2f5fa\"}, \"error_y\": {\"color\": \"#f2f5fa\"}, \"marker\": {\"line\": {\"color\": \"rgb(17,17,17)\", \"width\": 0.5}}, \"type\": \"bar\"}], \"barpolar\": [{\"marker\": {\"line\": {\"color\": \"rgb(17,17,17)\", \"width\": 0.5}}, \"type\": \"barpolar\"}], \"carpet\": [{\"aaxis\": {\"endlinecolor\": \"#A2B1C6\", \"gridcolor\": \"#506784\", \"linecolor\": \"#506784\", \"minorgridcolor\": \"#506784\", \"startlinecolor\": \"#A2B1C6\"}, \"baxis\": {\"endlinecolor\": \"#A2B1C6\", \"gridcolor\": \"#506784\", \"linecolor\": \"#506784\", \"minorgridcolor\": \"#506784\", \"startlinecolor\": \"#A2B1C6\"}, \"type\": \"carpet\"}], \"choropleth\": [{\"colorbar\": {\"outlinewidth\": 0, \"ticks\": \"\"}, \"type\": \"choropleth\"}], \"contour\": [{\"colorbar\": {\"outlinewidth\": 0, \"ticks\": \"\"}, \"colorscale\": [[0.0, \"#0d0887\"], [0.1111111111111111, \"#46039f\"], [0.2222222222222222, \"#7201a8\"], [0.3333333333333333, \"#9c179e\"], [0.4444444444444444, \"#bd3786\"], [0.5555555555555556, \"#d8576b\"], [0.6666666666666666, \"#ed7953\"], [0.7777777777777778, \"#fb9f3a\"], [0.8888888888888888, \"#fdca26\"], [1.0, \"#f0f921\"]], \"type\": \"contour\"}], \"contourcarpet\": [{\"colorbar\": {\"outlinewidth\": 0, \"ticks\": \"\"}, \"type\": \"contourcarpet\"}], \"heatmap\": [{\"colorbar\": {\"outlinewidth\": 0, \"ticks\": \"\"}, \"colorscale\": [[0.0, \"#0d0887\"], [0.1111111111111111, \"#46039f\"], [0.2222222222222222, \"#7201a8\"], [0.3333333333333333, \"#9c179e\"], [0.4444444444444444, \"#bd3786\"], [0.5555555555555556, \"#d8576b\"], [0.6666666666666666, \"#ed7953\"], [0.7777777777777778, \"#fb9f3a\"], [0.8888888888888888, \"#fdca26\"], [1.0, \"#f0f921\"]], \"type\": \"heatmap\"}], \"heatmapgl\": [{\"colorbar\": {\"outlinewidth\": 0, \"ticks\": \"\"}, \"colorscale\": [[0.0, \"#0d0887\"], [0.1111111111111111, \"#46039f\"], [0.2222222222222222, \"#7201a8\"], [0.3333333333333333, \"#9c179e\"], [0.4444444444444444, \"#bd3786\"], [0.5555555555555556, \"#d8576b\"], [0.6666666666666666, \"#ed7953\"], [0.7777777777777778, \"#fb9f3a\"], [0.8888888888888888, \"#fdca26\"], [1.0, \"#f0f921\"]], \"type\": \"heatmapgl\"}], \"histogram\": [{\"marker\": {\"colorbar\": {\"outlinewidth\": 0, \"ticks\": \"\"}}, \"type\": \"histogram\"}], \"histogram2d\": [{\"colorbar\": {\"outlinewidth\": 0, \"ticks\": \"\"}, \"colorscale\": [[0.0, \"#0d0887\"], [0.1111111111111111, \"#46039f\"], [0.2222222222222222, \"#7201a8\"], [0.3333333333333333, \"#9c179e\"], [0.4444444444444444, \"#bd3786\"], [0.5555555555555556, \"#d8576b\"], [0.6666666666666666, \"#ed7953\"], [0.7777777777777778, \"#fb9f3a\"], [0.8888888888888888, \"#fdca26\"], [1.0, \"#f0f921\"]], \"type\": \"histogram2d\"}], \"histogram2dcontour\": [{\"colorbar\": {\"outlinewidth\": 0, \"ticks\": \"\"}, \"colorscale\": [[0.0, \"#0d0887\"], [0.1111111111111111, \"#46039f\"], [0.2222222222222222, \"#7201a8\"], [0.3333333333333333, \"#9c179e\"], [0.4444444444444444, \"#bd3786\"], [0.5555555555555556, \"#d8576b\"], [0.6666666666666666, \"#ed7953\"], [0.7777777777777778, \"#fb9f3a\"], [0.8888888888888888, \"#fdca26\"], [1.0, \"#f0f921\"]], \"type\": \"histogram2dcontour\"}], \"mesh3d\": [{\"colorbar\": {\"outlinewidth\": 0, \"ticks\": \"\"}, \"type\": \"mesh3d\"}], \"parcoords\": [{\"line\": {\"colorbar\": {\"outlinewidth\": 0, \"ticks\": \"\"}}, \"type\": \"parcoords\"}], \"pie\": [{\"automargin\": true, \"type\": \"pie\"}], \"scatter\": [{\"marker\": {\"line\": {\"color\": \"#283442\"}}, \"type\": \"scatter\"}], \"scatter3d\": [{\"line\": {\"colorbar\": {\"outlinewidth\": 0, \"ticks\": \"\"}}, \"marker\": {\"colorbar\": {\"outlinewidth\": 0, \"ticks\": \"\"}}, \"type\": \"scatter3d\"}], \"scattercarpet\": [{\"marker\": {\"colorbar\": {\"outlinewidth\": 0, \"ticks\": \"\"}}, \"type\": \"scattercarpet\"}], \"scattergeo\": [{\"marker\": {\"colorbar\": {\"outlinewidth\": 0, \"ticks\": \"\"}}, \"type\": \"scattergeo\"}], \"scattergl\": [{\"marker\": {\"line\": {\"color\": \"#283442\"}}, \"type\": \"scattergl\"}], \"scattermapbox\": [{\"marker\": {\"colorbar\": {\"outlinewidth\": 0, \"ticks\": \"\"}}, \"type\": \"scattermapbox\"}], \"scatterpolar\": [{\"marker\": {\"colorbar\": {\"outlinewidth\": 0, \"ticks\": \"\"}}, \"type\": \"scatterpolar\"}], \"scatterpolargl\": [{\"marker\": {\"colorbar\": {\"outlinewidth\": 0, \"ticks\": \"\"}}, \"type\": \"scatterpolargl\"}], \"scatterternary\": [{\"marker\": {\"colorbar\": {\"outlinewidth\": 0, \"ticks\": \"\"}}, \"type\": \"scatterternary\"}], \"surface\": [{\"colorbar\": {\"outlinewidth\": 0, \"ticks\": \"\"}, \"colorscale\": [[0.0, \"#0d0887\"], [0.1111111111111111, \"#46039f\"], [0.2222222222222222, \"#7201a8\"], [0.3333333333333333, \"#9c179e\"], [0.4444444444444444, \"#bd3786\"], [0.5555555555555556, \"#d8576b\"], [0.6666666666666666, \"#ed7953\"], [0.7777777777777778, \"#fb9f3a\"], [0.8888888888888888, \"#fdca26\"], [1.0, \"#f0f921\"]], \"type\": \"surface\"}], \"table\": [{\"cells\": {\"fill\": {\"color\": \"#506784\"}, \"line\": {\"color\": \"rgb(17,17,17)\"}}, \"header\": {\"fill\": {\"color\": \"#2a3f5f\"}, \"line\": {\"color\": \"rgb(17,17,17)\"}}, \"type\": \"table\"}]}, \"layout\": {\"annotationdefaults\": {\"arrowcolor\": \"#f2f5fa\", \"arrowhead\": 0, \"arrowwidth\": 1}, \"coloraxis\": {\"colorbar\": {\"outlinewidth\": 0, \"ticks\": \"\"}}, \"colorscale\": {\"diverging\": [[0, \"#8e0152\"], [0.1, \"#c51b7d\"], [0.2, \"#de77ae\"], [0.3, \"#f1b6da\"], [0.4, \"#fde0ef\"], [0.5, \"#f7f7f7\"], [0.6, \"#e6f5d0\"], [0.7, \"#b8e186\"], [0.8, \"#7fbc41\"], [0.9, \"#4d9221\"], [1, \"#276419\"]], \"sequential\": [[0.0, \"#0d0887\"], [0.1111111111111111, \"#46039f\"], [0.2222222222222222, \"#7201a8\"], [0.3333333333333333, \"#9c179e\"], [0.4444444444444444, \"#bd3786\"], [0.5555555555555556, \"#d8576b\"], [0.6666666666666666, \"#ed7953\"], [0.7777777777777778, \"#fb9f3a\"], [0.8888888888888888, \"#fdca26\"], [1.0, \"#f0f921\"]], \"sequentialminus\": [[0.0, \"#0d0887\"], [0.1111111111111111, \"#46039f\"], [0.2222222222222222, \"#7201a8\"], [0.3333333333333333, \"#9c179e\"], [0.4444444444444444, \"#bd3786\"], [0.5555555555555556, \"#d8576b\"], [0.6666666666666666, \"#ed7953\"], [0.7777777777777778, \"#fb9f3a\"], [0.8888888888888888, \"#fdca26\"], [1.0, \"#f0f921\"]]}, \"colorway\": [\"#636efa\", \"#EF553B\", \"#00cc96\", \"#ab63fa\", \"#FFA15A\", \"#19d3f3\", \"#FF6692\", \"#B6E880\", \"#FF97FF\", \"#FECB52\"], \"font\": {\"color\": \"#f2f5fa\"}, \"geo\": {\"bgcolor\": \"rgb(17,17,17)\", \"lakecolor\": \"rgb(17,17,17)\", \"landcolor\": \"rgb(17,17,17)\", \"showlakes\": true, \"showland\": true, \"subunitcolor\": \"#506784\"}, \"hoverlabel\": {\"align\": \"left\"}, \"hovermode\": \"closest\", \"mapbox\": {\"style\": \"dark\"}, \"paper_bgcolor\": \"rgb(17,17,17)\", \"plot_bgcolor\": \"rgb(17,17,17)\", \"polar\": {\"angularaxis\": {\"gridcolor\": \"#506784\", \"linecolor\": \"#506784\", \"ticks\": \"\"}, \"bgcolor\": \"rgb(17,17,17)\", \"radialaxis\": {\"gridcolor\": \"#506784\", \"linecolor\": \"#506784\", \"ticks\": \"\"}}, \"scene\": {\"xaxis\": {\"backgroundcolor\": \"rgb(17,17,17)\", \"gridcolor\": \"#506784\", \"gridwidth\": 2, \"linecolor\": \"#506784\", \"showbackground\": true, \"ticks\": \"\", \"zerolinecolor\": \"#C8D4E3\"}, \"yaxis\": {\"backgroundcolor\": \"rgb(17,17,17)\", \"gridcolor\": \"#506784\", \"gridwidth\": 2, \"linecolor\": \"#506784\", \"showbackground\": true, \"ticks\": \"\", \"zerolinecolor\": \"#C8D4E3\"}, \"zaxis\": {\"backgroundcolor\": \"rgb(17,17,17)\", \"gridcolor\": \"#506784\", \"gridwidth\": 2, \"linecolor\": \"#506784\", \"showbackground\": true, \"ticks\": \"\", \"zerolinecolor\": \"#C8D4E3\"}}, \"shapedefaults\": {\"line\": {\"color\": \"#f2f5fa\"}}, \"sliderdefaults\": {\"bgcolor\": \"#C8D4E3\", \"bordercolor\": \"rgb(17,17,17)\", \"borderwidth\": 1, \"tickwidth\": 0}, \"ternary\": {\"aaxis\": {\"gridcolor\": \"#506784\", \"linecolor\": \"#506784\", \"ticks\": \"\"}, \"baxis\": {\"gridcolor\": \"#506784\", \"linecolor\": \"#506784\", \"ticks\": \"\"}, \"bgcolor\": \"rgb(17,17,17)\", \"caxis\": {\"gridcolor\": \"#506784\", \"linecolor\": \"#506784\", \"ticks\": \"\"}}, \"title\": {\"x\": 0.05}, \"updatemenudefaults\": {\"bgcolor\": \"#506784\", \"borderwidth\": 0}, \"xaxis\": {\"automargin\": true, \"gridcolor\": \"#283442\", \"linecolor\": \"#506784\", \"ticks\": \"\", \"title\": {\"standoff\": 15}, \"zerolinecolor\": \"#283442\", \"zerolinewidth\": 2}, \"yaxis\": {\"automargin\": true, \"gridcolor\": \"#283442\", \"linecolor\": \"#506784\", \"ticks\": \"\", \"title\": {\"standoff\": 15}, \"zerolinecolor\": \"#283442\", \"zerolinewidth\": 2}}}},\n",
       "                        {\"responsive\": true}\n",
       "                    ).then(function(){\n",
       "                            \n",
       "var gd = document.getElementById('7dd99632-4d78-4332-981a-6a75b4f61dee');\n",
       "var x = new MutationObserver(function (mutations, observer) {{\n",
       "        var display = window.getComputedStyle(gd).display;\n",
       "        if (!display || display === 'none') {{\n",
       "            console.log([gd, 'removed!']);\n",
       "            Plotly.purge(gd);\n",
       "            observer.disconnect();\n",
       "        }}\n",
       "}});\n",
       "\n",
       "// Listen for the removal of the full notebook cells\n",
       "var notebookContainer = gd.closest('#notebook-container');\n",
       "if (notebookContainer) {{\n",
       "    x.observe(notebookContainer, {childList: true});\n",
       "}}\n",
       "\n",
       "// Listen for the clearing of the current output cell\n",
       "var outputEl = gd.closest('.output');\n",
       "if (outputEl) {{\n",
       "    x.observe(outputEl, {childList: true});\n",
       "}}\n",
       "\n",
       "                        })\n",
       "                };\n",
       "                });\n",
       "            </script>\n",
       "        </div>"
      ]
     },
     "metadata": {},
     "output_type": "display_data"
    }
   ],
   "source": [
    "import plotly.express as px\n",
    "from data import countries_df\n",
    "\n",
    "fig = px.scatter_geo(countries_df, hover_name=\"Country_Region\", color=\"Confirmed\", \n",
    "                     size=\"Confirmed\",\n",
    "                     size_max=50,\n",
    "                     template=\"plotly_dark\",\n",
    "                     #hover_data=[\"Confirmed\", \"Deaths\", \"Recovered\"], \n",
    "                     hover_data={\n",
    "                         \"Confirmed\" : \":,2f\", \n",
    "                         \"Deaths\" : \":,2f\", \n",
    "                         \"Recovered\" : \":,2f\",\n",
    "                         \"Country_Region\" : False\n",
    "                     },\n",
    "                     locations=\"Country_Region\", locationmode=\"country names\")\n",
    "fig.show()"
   ]
  },
  {
   "cell_type": "code",
   "execution_count": 29,
   "metadata": {},
   "outputs": [
    {
     "data": {
      "application/vnd.plotly.v1+json": {
       "config": {
        "plotlyServerURL": "https://plot.ly"
       },
       "data": [
        {
         "alignmentgroup": "True",
         "hovertemplate": "condition=%{x}<br>count=%{y}<extra></extra>",
         "legendgroup": "",
         "marker": {
          "color": "#636efa"
         },
         "name": "",
         "offsetgroup": "",
         "orientation": "v",
         "showlegend": false,
         "textposition": "auto",
         "type": "bar",
         "x": [
          "Confirmed",
          "Deaths",
          "Recovered"
         ],
         "xaxis": "x",
         "y": [
          22136954,
          780908,
          14116451
         ],
         "yaxis": "y"
        }
       ],
       "layout": {
        "barmode": "relative",
        "legend": {
         "tracegroupgap": 0
        },
        "margin": {
         "t": 60
        },
        "template": {
         "data": {
          "bar": [
           {
            "error_x": {
             "color": "#2a3f5f"
            },
            "error_y": {
             "color": "#2a3f5f"
            },
            "marker": {
             "line": {
              "color": "#E5ECF6",
              "width": 0.5
             }
            },
            "type": "bar"
           }
          ],
          "barpolar": [
           {
            "marker": {
             "line": {
              "color": "#E5ECF6",
              "width": 0.5
             }
            },
            "type": "barpolar"
           }
          ],
          "carpet": [
           {
            "aaxis": {
             "endlinecolor": "#2a3f5f",
             "gridcolor": "white",
             "linecolor": "white",
             "minorgridcolor": "white",
             "startlinecolor": "#2a3f5f"
            },
            "baxis": {
             "endlinecolor": "#2a3f5f",
             "gridcolor": "white",
             "linecolor": "white",
             "minorgridcolor": "white",
             "startlinecolor": "#2a3f5f"
            },
            "type": "carpet"
           }
          ],
          "choropleth": [
           {
            "colorbar": {
             "outlinewidth": 0,
             "ticks": ""
            },
            "type": "choropleth"
           }
          ],
          "contour": [
           {
            "colorbar": {
             "outlinewidth": 0,
             "ticks": ""
            },
            "colorscale": [
             [
              0,
              "#0d0887"
             ],
             [
              0.1111111111111111,
              "#46039f"
             ],
             [
              0.2222222222222222,
              "#7201a8"
             ],
             [
              0.3333333333333333,
              "#9c179e"
             ],
             [
              0.4444444444444444,
              "#bd3786"
             ],
             [
              0.5555555555555556,
              "#d8576b"
             ],
             [
              0.6666666666666666,
              "#ed7953"
             ],
             [
              0.7777777777777778,
              "#fb9f3a"
             ],
             [
              0.8888888888888888,
              "#fdca26"
             ],
             [
              1,
              "#f0f921"
             ]
            ],
            "type": "contour"
           }
          ],
          "contourcarpet": [
           {
            "colorbar": {
             "outlinewidth": 0,
             "ticks": ""
            },
            "type": "contourcarpet"
           }
          ],
          "heatmap": [
           {
            "colorbar": {
             "outlinewidth": 0,
             "ticks": ""
            },
            "colorscale": [
             [
              0,
              "#0d0887"
             ],
             [
              0.1111111111111111,
              "#46039f"
             ],
             [
              0.2222222222222222,
              "#7201a8"
             ],
             [
              0.3333333333333333,
              "#9c179e"
             ],
             [
              0.4444444444444444,
              "#bd3786"
             ],
             [
              0.5555555555555556,
              "#d8576b"
             ],
             [
              0.6666666666666666,
              "#ed7953"
             ],
             [
              0.7777777777777778,
              "#fb9f3a"
             ],
             [
              0.8888888888888888,
              "#fdca26"
             ],
             [
              1,
              "#f0f921"
             ]
            ],
            "type": "heatmap"
           }
          ],
          "heatmapgl": [
           {
            "colorbar": {
             "outlinewidth": 0,
             "ticks": ""
            },
            "colorscale": [
             [
              0,
              "#0d0887"
             ],
             [
              0.1111111111111111,
              "#46039f"
             ],
             [
              0.2222222222222222,
              "#7201a8"
             ],
             [
              0.3333333333333333,
              "#9c179e"
             ],
             [
              0.4444444444444444,
              "#bd3786"
             ],
             [
              0.5555555555555556,
              "#d8576b"
             ],
             [
              0.6666666666666666,
              "#ed7953"
             ],
             [
              0.7777777777777778,
              "#fb9f3a"
             ],
             [
              0.8888888888888888,
              "#fdca26"
             ],
             [
              1,
              "#f0f921"
             ]
            ],
            "type": "heatmapgl"
           }
          ],
          "histogram": [
           {
            "marker": {
             "colorbar": {
              "outlinewidth": 0,
              "ticks": ""
             }
            },
            "type": "histogram"
           }
          ],
          "histogram2d": [
           {
            "colorbar": {
             "outlinewidth": 0,
             "ticks": ""
            },
            "colorscale": [
             [
              0,
              "#0d0887"
             ],
             [
              0.1111111111111111,
              "#46039f"
             ],
             [
              0.2222222222222222,
              "#7201a8"
             ],
             [
              0.3333333333333333,
              "#9c179e"
             ],
             [
              0.4444444444444444,
              "#bd3786"
             ],
             [
              0.5555555555555556,
              "#d8576b"
             ],
             [
              0.6666666666666666,
              "#ed7953"
             ],
             [
              0.7777777777777778,
              "#fb9f3a"
             ],
             [
              0.8888888888888888,
              "#fdca26"
             ],
             [
              1,
              "#f0f921"
             ]
            ],
            "type": "histogram2d"
           }
          ],
          "histogram2dcontour": [
           {
            "colorbar": {
             "outlinewidth": 0,
             "ticks": ""
            },
            "colorscale": [
             [
              0,
              "#0d0887"
             ],
             [
              0.1111111111111111,
              "#46039f"
             ],
             [
              0.2222222222222222,
              "#7201a8"
             ],
             [
              0.3333333333333333,
              "#9c179e"
             ],
             [
              0.4444444444444444,
              "#bd3786"
             ],
             [
              0.5555555555555556,
              "#d8576b"
             ],
             [
              0.6666666666666666,
              "#ed7953"
             ],
             [
              0.7777777777777778,
              "#fb9f3a"
             ],
             [
              0.8888888888888888,
              "#fdca26"
             ],
             [
              1,
              "#f0f921"
             ]
            ],
            "type": "histogram2dcontour"
           }
          ],
          "mesh3d": [
           {
            "colorbar": {
             "outlinewidth": 0,
             "ticks": ""
            },
            "type": "mesh3d"
           }
          ],
          "parcoords": [
           {
            "line": {
             "colorbar": {
              "outlinewidth": 0,
              "ticks": ""
             }
            },
            "type": "parcoords"
           }
          ],
          "pie": [
           {
            "automargin": true,
            "type": "pie"
           }
          ],
          "scatter": [
           {
            "marker": {
             "colorbar": {
              "outlinewidth": 0,
              "ticks": ""
             }
            },
            "type": "scatter"
           }
          ],
          "scatter3d": [
           {
            "line": {
             "colorbar": {
              "outlinewidth": 0,
              "ticks": ""
             }
            },
            "marker": {
             "colorbar": {
              "outlinewidth": 0,
              "ticks": ""
             }
            },
            "type": "scatter3d"
           }
          ],
          "scattercarpet": [
           {
            "marker": {
             "colorbar": {
              "outlinewidth": 0,
              "ticks": ""
             }
            },
            "type": "scattercarpet"
           }
          ],
          "scattergeo": [
           {
            "marker": {
             "colorbar": {
              "outlinewidth": 0,
              "ticks": ""
             }
            },
            "type": "scattergeo"
           }
          ],
          "scattergl": [
           {
            "marker": {
             "colorbar": {
              "outlinewidth": 0,
              "ticks": ""
             }
            },
            "type": "scattergl"
           }
          ],
          "scattermapbox": [
           {
            "marker": {
             "colorbar": {
              "outlinewidth": 0,
              "ticks": ""
             }
            },
            "type": "scattermapbox"
           }
          ],
          "scatterpolar": [
           {
            "marker": {
             "colorbar": {
              "outlinewidth": 0,
              "ticks": ""
             }
            },
            "type": "scatterpolar"
           }
          ],
          "scatterpolargl": [
           {
            "marker": {
             "colorbar": {
              "outlinewidth": 0,
              "ticks": ""
             }
            },
            "type": "scatterpolargl"
           }
          ],
          "scatterternary": [
           {
            "marker": {
             "colorbar": {
              "outlinewidth": 0,
              "ticks": ""
             }
            },
            "type": "scatterternary"
           }
          ],
          "surface": [
           {
            "colorbar": {
             "outlinewidth": 0,
             "ticks": ""
            },
            "colorscale": [
             [
              0,
              "#0d0887"
             ],
             [
              0.1111111111111111,
              "#46039f"
             ],
             [
              0.2222222222222222,
              "#7201a8"
             ],
             [
              0.3333333333333333,
              "#9c179e"
             ],
             [
              0.4444444444444444,
              "#bd3786"
             ],
             [
              0.5555555555555556,
              "#d8576b"
             ],
             [
              0.6666666666666666,
              "#ed7953"
             ],
             [
              0.7777777777777778,
              "#fb9f3a"
             ],
             [
              0.8888888888888888,
              "#fdca26"
             ],
             [
              1,
              "#f0f921"
             ]
            ],
            "type": "surface"
           }
          ],
          "table": [
           {
            "cells": {
             "fill": {
              "color": "#EBF0F8"
             },
             "line": {
              "color": "white"
             }
            },
            "header": {
             "fill": {
              "color": "#C8D4E3"
             },
             "line": {
              "color": "white"
             }
            },
            "type": "table"
           }
          ]
         },
         "layout": {
          "annotationdefaults": {
           "arrowcolor": "#2a3f5f",
           "arrowhead": 0,
           "arrowwidth": 1
          },
          "coloraxis": {
           "colorbar": {
            "outlinewidth": 0,
            "ticks": ""
           }
          },
          "colorscale": {
           "diverging": [
            [
             0,
             "#8e0152"
            ],
            [
             0.1,
             "#c51b7d"
            ],
            [
             0.2,
             "#de77ae"
            ],
            [
             0.3,
             "#f1b6da"
            ],
            [
             0.4,
             "#fde0ef"
            ],
            [
             0.5,
             "#f7f7f7"
            ],
            [
             0.6,
             "#e6f5d0"
            ],
            [
             0.7,
             "#b8e186"
            ],
            [
             0.8,
             "#7fbc41"
            ],
            [
             0.9,
             "#4d9221"
            ],
            [
             1,
             "#276419"
            ]
           ],
           "sequential": [
            [
             0,
             "#0d0887"
            ],
            [
             0.1111111111111111,
             "#46039f"
            ],
            [
             0.2222222222222222,
             "#7201a8"
            ],
            [
             0.3333333333333333,
             "#9c179e"
            ],
            [
             0.4444444444444444,
             "#bd3786"
            ],
            [
             0.5555555555555556,
             "#d8576b"
            ],
            [
             0.6666666666666666,
             "#ed7953"
            ],
            [
             0.7777777777777778,
             "#fb9f3a"
            ],
            [
             0.8888888888888888,
             "#fdca26"
            ],
            [
             1,
             "#f0f921"
            ]
           ],
           "sequentialminus": [
            [
             0,
             "#0d0887"
            ],
            [
             0.1111111111111111,
             "#46039f"
            ],
            [
             0.2222222222222222,
             "#7201a8"
            ],
            [
             0.3333333333333333,
             "#9c179e"
            ],
            [
             0.4444444444444444,
             "#bd3786"
            ],
            [
             0.5555555555555556,
             "#d8576b"
            ],
            [
             0.6666666666666666,
             "#ed7953"
            ],
            [
             0.7777777777777778,
             "#fb9f3a"
            ],
            [
             0.8888888888888888,
             "#fdca26"
            ],
            [
             1,
             "#f0f921"
            ]
           ]
          },
          "colorway": [
           "#636efa",
           "#EF553B",
           "#00cc96",
           "#ab63fa",
           "#FFA15A",
           "#19d3f3",
           "#FF6692",
           "#B6E880",
           "#FF97FF",
           "#FECB52"
          ],
          "font": {
           "color": "#2a3f5f"
          },
          "geo": {
           "bgcolor": "white",
           "lakecolor": "white",
           "landcolor": "#E5ECF6",
           "showlakes": true,
           "showland": true,
           "subunitcolor": "white"
          },
          "hoverlabel": {
           "align": "left"
          },
          "hovermode": "closest",
          "mapbox": {
           "style": "light"
          },
          "paper_bgcolor": "white",
          "plot_bgcolor": "#E5ECF6",
          "polar": {
           "angularaxis": {
            "gridcolor": "white",
            "linecolor": "white",
            "ticks": ""
           },
           "bgcolor": "#E5ECF6",
           "radialaxis": {
            "gridcolor": "white",
            "linecolor": "white",
            "ticks": ""
           }
          },
          "scene": {
           "xaxis": {
            "backgroundcolor": "#E5ECF6",
            "gridcolor": "white",
            "gridwidth": 2,
            "linecolor": "white",
            "showbackground": true,
            "ticks": "",
            "zerolinecolor": "white"
           },
           "yaxis": {
            "backgroundcolor": "#E5ECF6",
            "gridcolor": "white",
            "gridwidth": 2,
            "linecolor": "white",
            "showbackground": true,
            "ticks": "",
            "zerolinecolor": "white"
           },
           "zaxis": {
            "backgroundcolor": "#E5ECF6",
            "gridcolor": "white",
            "gridwidth": 2,
            "linecolor": "white",
            "showbackground": true,
            "ticks": "",
            "zerolinecolor": "white"
           }
          },
          "shapedefaults": {
           "line": {
            "color": "#2a3f5f"
           }
          },
          "ternary": {
           "aaxis": {
            "gridcolor": "white",
            "linecolor": "white",
            "ticks": ""
           },
           "baxis": {
            "gridcolor": "white",
            "linecolor": "white",
            "ticks": ""
           },
           "bgcolor": "#E5ECF6",
           "caxis": {
            "gridcolor": "white",
            "linecolor": "white",
            "ticks": ""
           }
          },
          "title": {
           "x": 0.05
          },
          "xaxis": {
           "automargin": true,
           "gridcolor": "white",
           "linecolor": "white",
           "ticks": "",
           "title": {
            "standoff": 15
           },
           "zerolinecolor": "white",
           "zerolinewidth": 2
          },
          "yaxis": {
           "automargin": true,
           "gridcolor": "white",
           "linecolor": "white",
           "ticks": "",
           "title": {
            "standoff": 15
           },
           "zerolinecolor": "white",
           "zerolinewidth": 2
          }
         }
        },
        "xaxis": {
         "anchor": "y",
         "domain": [
          0,
          1
         ],
         "title": {
          "text": "condition"
         }
        },
        "yaxis": {
         "anchor": "x",
         "domain": [
          0,
          1
         ],
         "title": {
          "text": "count"
         }
        }
       }
      },
      "text/html": [
       "<div>\n",
       "        \n",
       "        \n",
       "            <div id=\"ab4d19de-8b43-4a93-8edd-cf08b78e4e0e\" class=\"plotly-graph-div\" style=\"height:525px; width:100%;\"></div>\n",
       "            <script type=\"text/javascript\">\n",
       "                require([\"plotly\"], function(Plotly) {\n",
       "                    window.PLOTLYENV=window.PLOTLYENV || {};\n",
       "                    \n",
       "                if (document.getElementById(\"ab4d19de-8b43-4a93-8edd-cf08b78e4e0e\")) {\n",
       "                    Plotly.newPlot(\n",
       "                        'ab4d19de-8b43-4a93-8edd-cf08b78e4e0e',\n",
       "                        [{\"alignmentgroup\": \"True\", \"hovertemplate\": \"condition=%{x}<br>count=%{y}<extra></extra>\", \"legendgroup\": \"\", \"marker\": {\"color\": \"#636efa\"}, \"name\": \"\", \"offsetgroup\": \"\", \"orientation\": \"v\", \"showlegend\": false, \"textposition\": \"auto\", \"type\": \"bar\", \"x\": [\"Confirmed\", \"Deaths\", \"Recovered\"], \"xaxis\": \"x\", \"y\": [22136954, 780908, 14116451], \"yaxis\": \"y\"}],\n",
       "                        {\"barmode\": \"relative\", \"legend\": {\"tracegroupgap\": 0}, \"margin\": {\"t\": 60}, \"template\": {\"data\": {\"bar\": [{\"error_x\": {\"color\": \"#2a3f5f\"}, \"error_y\": {\"color\": \"#2a3f5f\"}, \"marker\": {\"line\": {\"color\": \"#E5ECF6\", \"width\": 0.5}}, \"type\": \"bar\"}], \"barpolar\": [{\"marker\": {\"line\": {\"color\": \"#E5ECF6\", \"width\": 0.5}}, \"type\": \"barpolar\"}], \"carpet\": [{\"aaxis\": {\"endlinecolor\": \"#2a3f5f\", \"gridcolor\": \"white\", \"linecolor\": \"white\", \"minorgridcolor\": \"white\", \"startlinecolor\": \"#2a3f5f\"}, \"baxis\": {\"endlinecolor\": \"#2a3f5f\", \"gridcolor\": \"white\", \"linecolor\": \"white\", \"minorgridcolor\": \"white\", \"startlinecolor\": \"#2a3f5f\"}, \"type\": \"carpet\"}], \"choropleth\": [{\"colorbar\": {\"outlinewidth\": 0, \"ticks\": \"\"}, \"type\": \"choropleth\"}], \"contour\": [{\"colorbar\": {\"outlinewidth\": 0, \"ticks\": \"\"}, \"colorscale\": [[0.0, \"#0d0887\"], [0.1111111111111111, \"#46039f\"], [0.2222222222222222, \"#7201a8\"], [0.3333333333333333, \"#9c179e\"], [0.4444444444444444, \"#bd3786\"], [0.5555555555555556, \"#d8576b\"], [0.6666666666666666, \"#ed7953\"], [0.7777777777777778, \"#fb9f3a\"], [0.8888888888888888, \"#fdca26\"], [1.0, \"#f0f921\"]], \"type\": \"contour\"}], \"contourcarpet\": [{\"colorbar\": {\"outlinewidth\": 0, \"ticks\": \"\"}, \"type\": \"contourcarpet\"}], \"heatmap\": [{\"colorbar\": {\"outlinewidth\": 0, \"ticks\": \"\"}, \"colorscale\": [[0.0, \"#0d0887\"], [0.1111111111111111, \"#46039f\"], [0.2222222222222222, \"#7201a8\"], [0.3333333333333333, \"#9c179e\"], [0.4444444444444444, \"#bd3786\"], [0.5555555555555556, \"#d8576b\"], [0.6666666666666666, \"#ed7953\"], [0.7777777777777778, \"#fb9f3a\"], [0.8888888888888888, \"#fdca26\"], [1.0, \"#f0f921\"]], \"type\": \"heatmap\"}], \"heatmapgl\": [{\"colorbar\": {\"outlinewidth\": 0, \"ticks\": \"\"}, \"colorscale\": [[0.0, \"#0d0887\"], [0.1111111111111111, \"#46039f\"], [0.2222222222222222, \"#7201a8\"], [0.3333333333333333, \"#9c179e\"], [0.4444444444444444, \"#bd3786\"], [0.5555555555555556, \"#d8576b\"], [0.6666666666666666, \"#ed7953\"], [0.7777777777777778, \"#fb9f3a\"], [0.8888888888888888, \"#fdca26\"], [1.0, \"#f0f921\"]], \"type\": \"heatmapgl\"}], \"histogram\": [{\"marker\": {\"colorbar\": {\"outlinewidth\": 0, \"ticks\": \"\"}}, \"type\": \"histogram\"}], \"histogram2d\": [{\"colorbar\": {\"outlinewidth\": 0, \"ticks\": \"\"}, \"colorscale\": [[0.0, \"#0d0887\"], [0.1111111111111111, \"#46039f\"], [0.2222222222222222, \"#7201a8\"], [0.3333333333333333, \"#9c179e\"], [0.4444444444444444, \"#bd3786\"], [0.5555555555555556, \"#d8576b\"], [0.6666666666666666, \"#ed7953\"], [0.7777777777777778, \"#fb9f3a\"], [0.8888888888888888, \"#fdca26\"], [1.0, \"#f0f921\"]], \"type\": \"histogram2d\"}], \"histogram2dcontour\": [{\"colorbar\": {\"outlinewidth\": 0, \"ticks\": \"\"}, \"colorscale\": [[0.0, \"#0d0887\"], [0.1111111111111111, \"#46039f\"], [0.2222222222222222, \"#7201a8\"], [0.3333333333333333, \"#9c179e\"], [0.4444444444444444, \"#bd3786\"], [0.5555555555555556, \"#d8576b\"], [0.6666666666666666, \"#ed7953\"], [0.7777777777777778, \"#fb9f3a\"], [0.8888888888888888, \"#fdca26\"], [1.0, \"#f0f921\"]], \"type\": \"histogram2dcontour\"}], \"mesh3d\": [{\"colorbar\": {\"outlinewidth\": 0, \"ticks\": \"\"}, \"type\": \"mesh3d\"}], \"parcoords\": [{\"line\": {\"colorbar\": {\"outlinewidth\": 0, \"ticks\": \"\"}}, \"type\": \"parcoords\"}], \"pie\": [{\"automargin\": true, \"type\": \"pie\"}], \"scatter\": [{\"marker\": {\"colorbar\": {\"outlinewidth\": 0, \"ticks\": \"\"}}, \"type\": \"scatter\"}], \"scatter3d\": [{\"line\": {\"colorbar\": {\"outlinewidth\": 0, \"ticks\": \"\"}}, \"marker\": {\"colorbar\": {\"outlinewidth\": 0, \"ticks\": \"\"}}, \"type\": \"scatter3d\"}], \"scattercarpet\": [{\"marker\": {\"colorbar\": {\"outlinewidth\": 0, \"ticks\": \"\"}}, \"type\": \"scattercarpet\"}], \"scattergeo\": [{\"marker\": {\"colorbar\": {\"outlinewidth\": 0, \"ticks\": \"\"}}, \"type\": \"scattergeo\"}], \"scattergl\": [{\"marker\": {\"colorbar\": {\"outlinewidth\": 0, \"ticks\": \"\"}}, \"type\": \"scattergl\"}], \"scattermapbox\": [{\"marker\": {\"colorbar\": {\"outlinewidth\": 0, \"ticks\": \"\"}}, \"type\": \"scattermapbox\"}], \"scatterpolar\": [{\"marker\": {\"colorbar\": {\"outlinewidth\": 0, \"ticks\": \"\"}}, \"type\": \"scatterpolar\"}], \"scatterpolargl\": [{\"marker\": {\"colorbar\": {\"outlinewidth\": 0, \"ticks\": \"\"}}, \"type\": \"scatterpolargl\"}], \"scatterternary\": [{\"marker\": {\"colorbar\": {\"outlinewidth\": 0, \"ticks\": \"\"}}, \"type\": \"scatterternary\"}], \"surface\": [{\"colorbar\": {\"outlinewidth\": 0, \"ticks\": \"\"}, \"colorscale\": [[0.0, \"#0d0887\"], [0.1111111111111111, \"#46039f\"], [0.2222222222222222, \"#7201a8\"], [0.3333333333333333, \"#9c179e\"], [0.4444444444444444, \"#bd3786\"], [0.5555555555555556, \"#d8576b\"], [0.6666666666666666, \"#ed7953\"], [0.7777777777777778, \"#fb9f3a\"], [0.8888888888888888, \"#fdca26\"], [1.0, \"#f0f921\"]], \"type\": \"surface\"}], \"table\": [{\"cells\": {\"fill\": {\"color\": \"#EBF0F8\"}, \"line\": {\"color\": \"white\"}}, \"header\": {\"fill\": {\"color\": \"#C8D4E3\"}, \"line\": {\"color\": \"white\"}}, \"type\": \"table\"}]}, \"layout\": {\"annotationdefaults\": {\"arrowcolor\": \"#2a3f5f\", \"arrowhead\": 0, \"arrowwidth\": 1}, \"coloraxis\": {\"colorbar\": {\"outlinewidth\": 0, \"ticks\": \"\"}}, \"colorscale\": {\"diverging\": [[0, \"#8e0152\"], [0.1, \"#c51b7d\"], [0.2, \"#de77ae\"], [0.3, \"#f1b6da\"], [0.4, \"#fde0ef\"], [0.5, \"#f7f7f7\"], [0.6, \"#e6f5d0\"], [0.7, \"#b8e186\"], [0.8, \"#7fbc41\"], [0.9, \"#4d9221\"], [1, \"#276419\"]], \"sequential\": [[0.0, \"#0d0887\"], [0.1111111111111111, \"#46039f\"], [0.2222222222222222, \"#7201a8\"], [0.3333333333333333, \"#9c179e\"], [0.4444444444444444, \"#bd3786\"], [0.5555555555555556, \"#d8576b\"], [0.6666666666666666, \"#ed7953\"], [0.7777777777777778, \"#fb9f3a\"], [0.8888888888888888, \"#fdca26\"], [1.0, \"#f0f921\"]], \"sequentialminus\": [[0.0, \"#0d0887\"], [0.1111111111111111, \"#46039f\"], [0.2222222222222222, \"#7201a8\"], [0.3333333333333333, \"#9c179e\"], [0.4444444444444444, \"#bd3786\"], [0.5555555555555556, \"#d8576b\"], [0.6666666666666666, \"#ed7953\"], [0.7777777777777778, \"#fb9f3a\"], [0.8888888888888888, \"#fdca26\"], [1.0, \"#f0f921\"]]}, \"colorway\": [\"#636efa\", \"#EF553B\", \"#00cc96\", \"#ab63fa\", \"#FFA15A\", \"#19d3f3\", \"#FF6692\", \"#B6E880\", \"#FF97FF\", \"#FECB52\"], \"font\": {\"color\": \"#2a3f5f\"}, \"geo\": {\"bgcolor\": \"white\", \"lakecolor\": \"white\", \"landcolor\": \"#E5ECF6\", \"showlakes\": true, \"showland\": true, \"subunitcolor\": \"white\"}, \"hoverlabel\": {\"align\": \"left\"}, \"hovermode\": \"closest\", \"mapbox\": {\"style\": \"light\"}, \"paper_bgcolor\": \"white\", \"plot_bgcolor\": \"#E5ECF6\", \"polar\": {\"angularaxis\": {\"gridcolor\": \"white\", \"linecolor\": \"white\", \"ticks\": \"\"}, \"bgcolor\": \"#E5ECF6\", \"radialaxis\": {\"gridcolor\": \"white\", \"linecolor\": \"white\", \"ticks\": \"\"}}, \"scene\": {\"xaxis\": {\"backgroundcolor\": \"#E5ECF6\", \"gridcolor\": \"white\", \"gridwidth\": 2, \"linecolor\": \"white\", \"showbackground\": true, \"ticks\": \"\", \"zerolinecolor\": \"white\"}, \"yaxis\": {\"backgroundcolor\": \"#E5ECF6\", \"gridcolor\": \"white\", \"gridwidth\": 2, \"linecolor\": \"white\", \"showbackground\": true, \"ticks\": \"\", \"zerolinecolor\": \"white\"}, \"zaxis\": {\"backgroundcolor\": \"#E5ECF6\", \"gridcolor\": \"white\", \"gridwidth\": 2, \"linecolor\": \"white\", \"showbackground\": true, \"ticks\": \"\", \"zerolinecolor\": \"white\"}}, \"shapedefaults\": {\"line\": {\"color\": \"#2a3f5f\"}}, \"ternary\": {\"aaxis\": {\"gridcolor\": \"white\", \"linecolor\": \"white\", \"ticks\": \"\"}, \"baxis\": {\"gridcolor\": \"white\", \"linecolor\": \"white\", \"ticks\": \"\"}, \"bgcolor\": \"#E5ECF6\", \"caxis\": {\"gridcolor\": \"white\", \"linecolor\": \"white\", \"ticks\": \"\"}}, \"title\": {\"x\": 0.05}, \"xaxis\": {\"automargin\": true, \"gridcolor\": \"white\", \"linecolor\": \"white\", \"ticks\": \"\", \"title\": {\"standoff\": 15}, \"zerolinecolor\": \"white\", \"zerolinewidth\": 2}, \"yaxis\": {\"automargin\": true, \"gridcolor\": \"white\", \"linecolor\": \"white\", \"ticks\": \"\", \"title\": {\"standoff\": 15}, \"zerolinecolor\": \"white\", \"zerolinewidth\": 2}}}, \"xaxis\": {\"anchor\": \"y\", \"domain\": [0.0, 1.0], \"title\": {\"text\": \"condition\"}}, \"yaxis\": {\"anchor\": \"x\", \"domain\": [0.0, 1.0], \"title\": {\"text\": \"count\"}}},\n",
       "                        {\"responsive\": true}\n",
       "                    ).then(function(){\n",
       "                            \n",
       "var gd = document.getElementById('ab4d19de-8b43-4a93-8edd-cf08b78e4e0e');\n",
       "var x = new MutationObserver(function (mutations, observer) {{\n",
       "        var display = window.getComputedStyle(gd).display;\n",
       "        if (!display || display === 'none') {{\n",
       "            console.log([gd, 'removed!']);\n",
       "            Plotly.purge(gd);\n",
       "            observer.disconnect();\n",
       "        }}\n",
       "}});\n",
       "\n",
       "// Listen for the removal of the full notebook cells\n",
       "var notebookContainer = gd.closest('#notebook-container');\n",
       "if (notebookContainer) {{\n",
       "    x.observe(notebookContainer, {childList: true});\n",
       "}}\n",
       "\n",
       "// Listen for the clearing of the current output cell\n",
       "var outputEl = gd.closest('.output');\n",
       "if (outputEl) {{\n",
       "    x.observe(outputEl, {childList: true});\n",
       "}}\n",
       "\n",
       "                        })\n",
       "                };\n",
       "                });\n",
       "            </script>\n",
       "        </div>"
      ]
     },
     "metadata": {},
     "output_type": "display_data"
    }
   ],
   "source": [
    "import plotly.express as px\n",
    "from data import totals_df\n",
    "\n",
    "fig = px.bar(totals_df, x=\"condition\", y=\"count\")\n",
    "fig.show()"
   ]
  }
 ],
 "metadata": {
  "kernelspec": {
   "display_name": "Python 3",
   "language": "python",
   "name": "python3"
  },
  "language_info": {
   "codemirror_mode": {
    "name": "ipython",
    "version": 3
   },
   "file_extension": ".py",
   "mimetype": "text/x-python",
   "name": "python",
   "nbconvert_exporter": "python",
   "pygments_lexer": "ipython3",
   "version": "3.7.6"
  }
 },
 "nbformat": 4,
 "nbformat_minor": 4
}
